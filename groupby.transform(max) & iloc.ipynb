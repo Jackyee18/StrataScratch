{
 "cells": [
  {
   "cell_type": "markdown",
   "id": "7c8f7fb0",
   "metadata": {},
   "source": [
    "# Make a pivot table to find the highest payment in each year for each employee\n",
    "\n",
    "Make a pivot table to find the highest payment in each year for each employee.\n",
    "Find payment details for 2011, 2012, 2013, and 2014.\n",
    "Output payment details along with the corresponding employee name.\n",
    "Order records by the employee name in ascending order"
   ]
  },
  {
   "cell_type": "code",
   "execution_count": 4,
   "id": "051a6a1d",
   "metadata": {},
   "outputs": [],
   "source": [
    "import pandas as pd\n",
    "import numpy as np\n",
    "q=pd.read_csv('sf_public_salaries.csv')"
   ]
  },
  {
   "cell_type": "code",
   "execution_count": 5,
   "id": "7d3df394",
   "metadata": {},
   "outputs": [],
   "source": [
    "# find the highest payment in each year for each employee\n",
    "q['max_totalpaybenefits']=q.groupby('year')['totalpaybenefits'].transform('max')"
   ]
  },
  {
   "cell_type": "code",
   "execution_count": 9,
   "id": "66f45b9f",
   "metadata": {},
   "outputs": [
    {
     "data": {
      "text/html": [
       "<div>\n",
       "<style scoped>\n",
       "    .dataframe tbody tr th:only-of-type {\n",
       "        vertical-align: middle;\n",
       "    }\n",
       "\n",
       "    .dataframe tbody tr th {\n",
       "        vertical-align: top;\n",
       "    }\n",
       "\n",
       "    .dataframe thead th {\n",
       "        text-align: right;\n",
       "    }\n",
       "</style>\n",
       "<table border=\"1\" class=\"dataframe\">\n",
       "  <thead>\n",
       "    <tr style=\"text-align: right;\">\n",
       "      <th></th>\n",
       "      <th>id</th>\n",
       "      <th>employeename</th>\n",
       "      <th>jobtitle</th>\n",
       "      <th>basepay</th>\n",
       "      <th>overtimepay</th>\n",
       "      <th>otherpay</th>\n",
       "      <th>benefits</th>\n",
       "      <th>totalpay</th>\n",
       "      <th>totalpaybenefits</th>\n",
       "      <th>year</th>\n",
       "    </tr>\n",
       "  </thead>\n",
       "  <tbody>\n",
       "    <tr>\n",
       "      <th>65</th>\n",
       "      <td>76558</td>\n",
       "      <td>Kathryn  Waaland</td>\n",
       "      <td>Sergeant 3</td>\n",
       "      <td>141389.04</td>\n",
       "      <td>4981.45</td>\n",
       "      <td>2832.11</td>\n",
       "      <td>40661.65</td>\n",
       "      <td>149202.60</td>\n",
       "      <td>189864.25</td>\n",
       "      <td>2013</td>\n",
       "    </tr>\n",
       "    <tr>\n",
       "      <th>164</th>\n",
       "      <td>39202</td>\n",
       "      <td>Lawrence Chan</td>\n",
       "      <td>Sergeant 3</td>\n",
       "      <td>135977.76</td>\n",
       "      <td>7718.70</td>\n",
       "      <td>7733.28</td>\n",
       "      <td>38259.83</td>\n",
       "      <td>151429.74</td>\n",
       "      <td>189689.57</td>\n",
       "      <td>2012</td>\n",
       "    </tr>\n",
       "    <tr>\n",
       "      <th>100</th>\n",
       "      <td>113634</td>\n",
       "      <td>Mark F Obrochta</td>\n",
       "      <td>Sergeant 3</td>\n",
       "      <td>137982.17</td>\n",
       "      <td>9196.03</td>\n",
       "      <td>5670.36</td>\n",
       "      <td>43038.50</td>\n",
       "      <td>152848.56</td>\n",
       "      <td>195887.06</td>\n",
       "      <td>2014</td>\n",
       "    </tr>\n",
       "    <tr>\n",
       "      <th>194</th>\n",
       "      <td>1</td>\n",
       "      <td>NATHANIEL FORD</td>\n",
       "      <td>GENERAL MANAGER-METROPOLITAN TRANSIT AUTHORITY</td>\n",
       "      <td>167411.18</td>\n",
       "      <td>0.00</td>\n",
       "      <td>400184.25</td>\n",
       "      <td>NaN</td>\n",
       "      <td>567595.43</td>\n",
       "      <td>567595.43</td>\n",
       "      <td>2011</td>\n",
       "    </tr>\n",
       "  </tbody>\n",
       "</table>\n",
       "</div>"
      ],
      "text/plain": [
       "         id      employeename                                        jobtitle  \\\n",
       "65    76558  Kathryn  Waaland                                      Sergeant 3   \n",
       "164   39202     Lawrence Chan                                      Sergeant 3   \n",
       "100  113634   Mark F Obrochta                                      Sergeant 3   \n",
       "194       1    NATHANIEL FORD  GENERAL MANAGER-METROPOLITAN TRANSIT AUTHORITY   \n",
       "\n",
       "       basepay  overtimepay   otherpay  benefits   totalpay  totalpaybenefits  \\\n",
       "65   141389.04      4981.45    2832.11  40661.65  149202.60         189864.25   \n",
       "164  135977.76      7718.70    7733.28  38259.83  151429.74         189689.57   \n",
       "100  137982.17      9196.03    5670.36  43038.50  152848.56         195887.06   \n",
       "194  167411.18         0.00  400184.25       NaN  567595.43         567595.43   \n",
       "\n",
       "     year  \n",
       "65   2013  \n",
       "164  2012  \n",
       "100  2014  \n",
       "194  2011  "
      ]
     },
     "execution_count": 9,
     "metadata": {},
     "output_type": "execute_result"
    }
   ],
   "source": [
    "# sort out with this codition to find the result\n",
    "q[q['totalpaybenefits']==q['max_totalpaybenefits']].iloc[:,0:-4].sort_values(by='employeename',ascending=True)"
   ]
  }
 ],
 "metadata": {
  "kernelspec": {
   "display_name": "Python 3 (ipykernel)",
   "language": "python",
   "name": "python3"
  },
  "language_info": {
   "codemirror_mode": {
    "name": "ipython",
    "version": 3
   },
   "file_extension": ".py",
   "mimetype": "text/x-python",
   "name": "python",
   "nbconvert_exporter": "python",
   "pygments_lexer": "ipython3",
   "version": "3.9.13"
  }
 },
 "nbformat": 4,
 "nbformat_minor": 5
}
