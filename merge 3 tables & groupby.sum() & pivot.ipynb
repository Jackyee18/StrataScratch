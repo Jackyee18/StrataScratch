{
 "cells": [
  {
   "cell_type": "markdown",
   "id": "607835fb",
   "metadata": {},
   "source": [
    "# Premium vs Freemium\n",
    "\n",
    "Find the total number of downloads for paying and non-paying users by date. Include only records where non-paying customers have more downloads than paying customers. The output should be sorted by earliest date first and contain 3 columns date, non-paying downloads, paying downloads."
   ]
  },
  {
   "cell_type": "code",
   "execution_count": 82,
   "id": "dfd81182",
   "metadata": {},
   "outputs": [],
   "source": [
    "import pandas as pd\n",
    "import numpy as np\n",
    "user=pd.read_csv('ms_user_dimension.csv')\n",
    "acc=pd.read_csv('ms_acc_dimension.csv')\n",
    "download=pd.read_csv('ms_download_facts.csv')"
   ]
  },
  {
   "cell_type": "code",
   "execution_count": 83,
   "id": "b15f9440",
   "metadata": {},
   "outputs": [],
   "source": [
    "# merge 3 tables \n",
    "download.merge(user).merge(acc)\n",
    "q=download.merge(user).merge(acc)"
   ]
  },
  {
   "cell_type": "code",
   "execution_count": 84,
   "id": "64046c11",
   "metadata": {},
   "outputs": [],
   "source": [
    "# find the total downloads according to paying customer of each date\n",
    "q.groupby(['date','paying_customer'])['downloads'].sum().reset_index()\n",
    "q=q.groupby(['date','paying_customer'])['downloads'].sum().reset_index()"
   ]
  },
  {
   "cell_type": "code",
   "execution_count": 85,
   "id": "3897eca1",
   "metadata": {},
   "outputs": [],
   "source": [
    "# create a new pivot table\n",
    "q.pivot(index='date',values='downloads',columns='paying_customer').rename(columns={'no':'non_paying_downloads','yes':'paying_downloads'})\n",
    "q=q.pivot(index='date',values='downloads',columns='paying_customer').rename(columns={'no':'non_paying_downloads','yes':'paying_downloads'})"
   ]
  },
  {
   "cell_type": "code",
   "execution_count": 86,
   "id": "cbae554a",
   "metadata": {},
   "outputs": [
    {
     "data": {
      "text/html": [
       "<div>\n",
       "<style scoped>\n",
       "    .dataframe tbody tr th:only-of-type {\n",
       "        vertical-align: middle;\n",
       "    }\n",
       "\n",
       "    .dataframe tbody tr th {\n",
       "        vertical-align: top;\n",
       "    }\n",
       "\n",
       "    .dataframe thead th {\n",
       "        text-align: right;\n",
       "    }\n",
       "</style>\n",
       "<table border=\"1\" class=\"dataframe\">\n",
       "  <thead>\n",
       "    <tr style=\"text-align: right;\">\n",
       "      <th>paying_customer</th>\n",
       "      <th>non_paying_downloads</th>\n",
       "      <th>paying_downloads</th>\n",
       "    </tr>\n",
       "    <tr>\n",
       "      <th>date</th>\n",
       "      <th></th>\n",
       "      <th></th>\n",
       "    </tr>\n",
       "  </thead>\n",
       "  <tbody>\n",
       "    <tr>\n",
       "      <th>8/16/2020 0:00</th>\n",
       "      <td>15</td>\n",
       "      <td>14</td>\n",
       "    </tr>\n",
       "    <tr>\n",
       "      <th>8/17/2020 0:00</th>\n",
       "      <td>45</td>\n",
       "      <td>9</td>\n",
       "    </tr>\n",
       "    <tr>\n",
       "      <th>8/18/2020 0:00</th>\n",
       "      <td>10</td>\n",
       "      <td>7</td>\n",
       "    </tr>\n",
       "    <tr>\n",
       "      <th>8/21/2020 0:00</th>\n",
       "      <td>32</td>\n",
       "      <td>17</td>\n",
       "    </tr>\n",
       "  </tbody>\n",
       "</table>\n",
       "</div>"
      ],
      "text/plain": [
       "paying_customer  non_paying_downloads  paying_downloads\n",
       "date                                                   \n",
       "8/16/2020 0:00                     15                14\n",
       "8/17/2020 0:00                     45                 9\n",
       "8/18/2020 0:00                     10                 7\n",
       "8/21/2020 0:00                     32                17"
      ]
     },
     "execution_count": 86,
     "metadata": {},
     "output_type": "execute_result"
    }
   ],
   "source": [
    "# filter where nonpaying downloads greater than paying downloads\n",
    "q[(q['non_paying_downloads']-q['paying_downloads'])>0]"
   ]
  }
 ],
 "metadata": {
  "kernelspec": {
   "display_name": "Python 3 (ipykernel)",
   "language": "python",
   "name": "python3"
  },
  "language_info": {
   "codemirror_mode": {
    "name": "ipython",
    "version": 3
   },
   "file_extension": ".py",
   "mimetype": "text/x-python",
   "name": "python",
   "nbconvert_exporter": "python",
   "pygments_lexer": "ipython3",
   "version": "3.9.13"
  }
 },
 "nbformat": 4,
 "nbformat_minor": 5
}
