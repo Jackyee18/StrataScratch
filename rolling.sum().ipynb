{
 "cells": [
  {
   "cell_type": "markdown",
   "id": "6d15e92d",
   "metadata": {},
   "source": [
    "# Revenue Over Time\n",
    "\n",
    "Find the 3-month rolling average of total revenue from purchases given a table with users, their purchase amount, and date purchased. Do not include returns which are represented by negative purchase values. Output the year-month (YYYY-MM) and 3-month rolling average of revenue, sorted from earliest month to latest month.\n",
    "\n",
    "\n",
    "A 3-month rolling average is defined by calculating the average total revenue from all user purchases for the current month and previous two months. The first two months will not be a true 3-month rolling average since we are not given data from last year. Assume each month has at least one purchase."
   ]
  },
  {
   "cell_type": "code",
   "execution_count": 94,
   "id": "8d225cbb",
   "metadata": {},
   "outputs": [],
   "source": [
    "import pandas as pd\n",
    "import numpy as np\n",
    "q=pd.read_csv('amazon_purchases.csv')"
   ]
  },
  {
   "cell_type": "code",
   "execution_count": 95,
   "id": "d65e6e05",
   "metadata": {},
   "outputs": [],
   "source": [
    "# change datatype of 'created_at' column\n",
    "q.created_at=q.created_at.apply(pd.to_datetime)"
   ]
  },
  {
   "cell_type": "code",
   "execution_count": 96,
   "id": "ba217481",
   "metadata": {},
   "outputs": [],
   "source": [
    "# apply the year-motnh (YYYY-MM) format\n",
    "q.created_at=q.created_at.dt.strftime('%Y-%m')"
   ]
  },
  {
   "cell_type": "code",
   "execution_count": 97,
   "id": "7e7a174c",
   "metadata": {},
   "outputs": [],
   "source": [
    "# filter out the return order (purchase_amt<0)\n",
    "q=q[q['purchase_amt']>0]"
   ]
  },
  {
   "cell_type": "code",
   "execution_count": 98,
   "id": "beb20a66",
   "metadata": {},
   "outputs": [],
   "source": [
    "# find the total purchase by groupby 'created_at'\n",
    "q.groupby(['created_at']).mean()['purchase_amt'].reset_index()\n",
    "q=q.groupby(['created_at']).mean()['purchase_amt'].reset_index().rename(columns={'purchase_amt':'avg_purchase_amt'})"
   ]
  },
  {
   "cell_type": "code",
   "execution_count": 99,
   "id": "06aaa9c7",
   "metadata": {},
   "outputs": [],
   "source": [
    "# create a rolling avg_purchase of rolling 3 month\n",
    "q['3-month_rolling_amt']=q['avg_purchase_amt'].rolling(3).sum()"
   ]
  },
  {
   "cell_type": "code",
   "execution_count": 100,
   "id": "c226525c",
   "metadata": {},
   "outputs": [
    {
     "data": {
      "text/html": [
       "<div>\n",
       "<style scoped>\n",
       "    .dataframe tbody tr th:only-of-type {\n",
       "        vertical-align: middle;\n",
       "    }\n",
       "\n",
       "    .dataframe tbody tr th {\n",
       "        vertical-align: top;\n",
       "    }\n",
       "\n",
       "    .dataframe thead th {\n",
       "        text-align: right;\n",
       "    }\n",
       "</style>\n",
       "<table border=\"1\" class=\"dataframe\">\n",
       "  <thead>\n",
       "    <tr style=\"text-align: right;\">\n",
       "      <th></th>\n",
       "      <th>created_at</th>\n",
       "      <th>avg_purchase_amt</th>\n",
       "      <th>3-month_rolling_amt</th>\n",
       "    </tr>\n",
       "  </thead>\n",
       "  <tbody>\n",
       "    <tr>\n",
       "      <th>0</th>\n",
       "      <td>2020-01</td>\n",
       "      <td>3756.000000</td>\n",
       "      <td>NaN</td>\n",
       "    </tr>\n",
       "    <tr>\n",
       "      <th>1</th>\n",
       "      <td>2020-02</td>\n",
       "      <td>2586.875000</td>\n",
       "      <td>NaN</td>\n",
       "    </tr>\n",
       "    <tr>\n",
       "      <th>2</th>\n",
       "      <td>2020-03</td>\n",
       "      <td>3291.111111</td>\n",
       "      <td>9633.986111</td>\n",
       "    </tr>\n",
       "    <tr>\n",
       "      <th>3</th>\n",
       "      <td>2020-04</td>\n",
       "      <td>3133.285714</td>\n",
       "      <td>9011.271825</td>\n",
       "    </tr>\n",
       "    <tr>\n",
       "      <th>4</th>\n",
       "      <td>2020-05</td>\n",
       "      <td>2470.000000</td>\n",
       "      <td>8894.396825</td>\n",
       "    </tr>\n",
       "    <tr>\n",
       "      <th>5</th>\n",
       "      <td>2020-06</td>\n",
       "      <td>3460.875000</td>\n",
       "      <td>9064.160714</td>\n",
       "    </tr>\n",
       "    <tr>\n",
       "      <th>6</th>\n",
       "      <td>2020-07</td>\n",
       "      <td>3163.625000</td>\n",
       "      <td>9094.500000</td>\n",
       "    </tr>\n",
       "    <tr>\n",
       "      <th>7</th>\n",
       "      <td>2020-08</td>\n",
       "      <td>2610.666667</td>\n",
       "      <td>9235.166667</td>\n",
       "    </tr>\n",
       "    <tr>\n",
       "      <th>8</th>\n",
       "      <td>2020-09</td>\n",
       "      <td>3546.714286</td>\n",
       "      <td>9321.005952</td>\n",
       "    </tr>\n",
       "    <tr>\n",
       "      <th>9</th>\n",
       "      <td>2020-10</td>\n",
       "      <td>3062.000000</td>\n",
       "      <td>9219.380952</td>\n",
       "    </tr>\n",
       "  </tbody>\n",
       "</table>\n",
       "</div>"
      ],
      "text/plain": [
       "  created_at  avg_purchase_amt  3-month_rolling_amt\n",
       "0    2020-01       3756.000000                  NaN\n",
       "1    2020-02       2586.875000                  NaN\n",
       "2    2020-03       3291.111111          9633.986111\n",
       "3    2020-04       3133.285714          9011.271825\n",
       "4    2020-05       2470.000000          8894.396825\n",
       "5    2020-06       3460.875000          9064.160714\n",
       "6    2020-07       3163.625000          9094.500000\n",
       "7    2020-08       2610.666667          9235.166667\n",
       "8    2020-09       3546.714286          9321.005952\n",
       "9    2020-10       3062.000000          9219.380952"
      ]
     },
     "execution_count": 100,
     "metadata": {},
     "output_type": "execute_result"
    }
   ],
   "source": [
    "# sort value from earliest to latest month\n",
    "q.sort_values(by=['created_at'],ascending=False)\n",
    "q"
   ]
  }
 ],
 "metadata": {
  "kernelspec": {
   "display_name": "Python 3 (ipykernel)",
   "language": "python",
   "name": "python3"
  },
  "language_info": {
   "codemirror_mode": {
    "name": "ipython",
    "version": 3
   },
   "file_extension": ".py",
   "mimetype": "text/x-python",
   "name": "python",
   "nbconvert_exporter": "python",
   "pygments_lexer": "ipython3",
   "version": "3.9.13"
  }
 },
 "nbformat": 4,
 "nbformat_minor": 5
}
