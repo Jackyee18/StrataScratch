{
 "cells": [
  {
   "cell_type": "markdown",
   "id": "73dbaa2d",
   "metadata": {},
   "source": [
    "# Viewers Turned Streamers\n",
    "\n",
    "\n",
    "From users who had their first session as a viewer, how many streamer sessions have they had? Return the user id and number of sessions in descending order. In case there are users with the same number of sessions, order them by ascending user id.\n",
    "\n"
   ]
  },
  {
   "cell_type": "code",
   "execution_count": 3,
   "id": "803bced6",
   "metadata": {},
   "outputs": [
    {
     "data": {
      "text/html": [
       "<div>\n",
       "<style scoped>\n",
       "    .dataframe tbody tr th:only-of-type {\n",
       "        vertical-align: middle;\n",
       "    }\n",
       "\n",
       "    .dataframe tbody tr th {\n",
       "        vertical-align: top;\n",
       "    }\n",
       "\n",
       "    .dataframe thead th {\n",
       "        text-align: right;\n",
       "    }\n",
       "</style>\n",
       "<table border=\"1\" class=\"dataframe\">\n",
       "  <thead>\n",
       "    <tr style=\"text-align: right;\">\n",
       "      <th></th>\n",
       "      <th>user_id</th>\n",
       "      <th>session_start</th>\n",
       "      <th>session_end</th>\n",
       "      <th>session_id</th>\n",
       "      <th>session_type</th>\n",
       "    </tr>\n",
       "  </thead>\n",
       "  <tbody>\n",
       "    <tr>\n",
       "      <th>0</th>\n",
       "      <td>0</td>\n",
       "      <td>2020-08-11 05:51:31</td>\n",
       "      <td>2020-08-11 05:54:45</td>\n",
       "      <td>539</td>\n",
       "      <td>streamer</td>\n",
       "    </tr>\n",
       "    <tr>\n",
       "      <th>1</th>\n",
       "      <td>2</td>\n",
       "      <td>2020-07-11 03:36:54</td>\n",
       "      <td>2020-07-11 03:37:08</td>\n",
       "      <td>840</td>\n",
       "      <td>streamer</td>\n",
       "    </tr>\n",
       "    <tr>\n",
       "      <th>2</th>\n",
       "      <td>3</td>\n",
       "      <td>2020-11-26 11:41:47</td>\n",
       "      <td>2020-11-26 11:52:01</td>\n",
       "      <td>848</td>\n",
       "      <td>streamer</td>\n",
       "    </tr>\n",
       "    <tr>\n",
       "      <th>3</th>\n",
       "      <td>1</td>\n",
       "      <td>2020-11-19 06:24:24</td>\n",
       "      <td>2020-11-19 07:24:38</td>\n",
       "      <td>515</td>\n",
       "      <td>viewer</td>\n",
       "    </tr>\n",
       "    <tr>\n",
       "      <th>4</th>\n",
       "      <td>2</td>\n",
       "      <td>2020-11-14 03:36:05</td>\n",
       "      <td>2020-11-14 03:39:19</td>\n",
       "      <td>646</td>\n",
       "      <td>viewer</td>\n",
       "    </tr>\n",
       "    <tr>\n",
       "      <th>5</th>\n",
       "      <td>0</td>\n",
       "      <td>2020-03-11 03:01:40</td>\n",
       "      <td>2020-03-11 03:01:59</td>\n",
       "      <td>782</td>\n",
       "      <td>streamer</td>\n",
       "    </tr>\n",
       "    <tr>\n",
       "      <th>6</th>\n",
       "      <td>0</td>\n",
       "      <td>2020-08-11 03:50:45</td>\n",
       "      <td>2020-08-11 03:55:59</td>\n",
       "      <td>815</td>\n",
       "      <td>viewer</td>\n",
       "    </tr>\n",
       "    <tr>\n",
       "      <th>7</th>\n",
       "      <td>3</td>\n",
       "      <td>2020-10-11 22:15:14</td>\n",
       "      <td>2020-10-11 22:18:28</td>\n",
       "      <td>630</td>\n",
       "      <td>viewer</td>\n",
       "    </tr>\n",
       "    <tr>\n",
       "      <th>8</th>\n",
       "      <td>1</td>\n",
       "      <td>2020-11-20 06:59:57</td>\n",
       "      <td>2020-11-20 07:20:11</td>\n",
       "      <td>907</td>\n",
       "      <td>streamer</td>\n",
       "    </tr>\n",
       "    <tr>\n",
       "      <th>9</th>\n",
       "      <td>2</td>\n",
       "      <td>2020-07-11 14:32:19</td>\n",
       "      <td>2020-07-11 14:42:33</td>\n",
       "      <td>949</td>\n",
       "      <td>viewer</td>\n",
       "    </tr>\n",
       "  </tbody>\n",
       "</table>\n",
       "</div>"
      ],
      "text/plain": [
       "   user_id       session_start         session_end  session_id session_type\n",
       "0        0 2020-08-11 05:51:31 2020-08-11 05:54:45         539     streamer\n",
       "1        2 2020-07-11 03:36:54 2020-07-11 03:37:08         840     streamer\n",
       "2        3 2020-11-26 11:41:47 2020-11-26 11:52:01         848     streamer\n",
       "3        1 2020-11-19 06:24:24 2020-11-19 07:24:38         515       viewer\n",
       "4        2 2020-11-14 03:36:05 2020-11-14 03:39:19         646       viewer\n",
       "5        0 2020-03-11 03:01:40 2020-03-11 03:01:59         782     streamer\n",
       "6        0 2020-08-11 03:50:45 2020-08-11 03:55:59         815       viewer\n",
       "7        3 2020-10-11 22:15:14 2020-10-11 22:18:28         630       viewer\n",
       "8        1 2020-11-20 06:59:57 2020-11-20 07:20:11         907     streamer\n",
       "9        2 2020-07-11 14:32:19 2020-07-11 14:42:33         949       viewer"
      ]
     },
     "execution_count": 3,
     "metadata": {},
     "output_type": "execute_result"
    }
   ],
   "source": [
    "import pandas as pd\n",
    "q=pd.read_table('twitch_sessions.txt')\n",
    "q[['session_start','session_end']]=q[['session_start','session_end']].apply(pd.to_datetime)\n",
    "q"
   ]
  },
  {
   "cell_type": "code",
   "execution_count": 9,
   "id": "6a140dcd",
   "metadata": {},
   "outputs": [],
   "source": [
    "# find the first session time for each user id\n",
    "first_session=q.groupby('user_id').session_start.min().reset_index(name='firt_session_time')"
   ]
  },
  {
   "cell_type": "code",
   "execution_count": 12,
   "id": "2b2af9c8",
   "metadata": {},
   "outputs": [
    {
     "data": {
      "text/html": [
       "<div>\n",
       "<style scoped>\n",
       "    .dataframe tbody tr th:only-of-type {\n",
       "        vertical-align: middle;\n",
       "    }\n",
       "\n",
       "    .dataframe tbody tr th {\n",
       "        vertical-align: top;\n",
       "    }\n",
       "\n",
       "    .dataframe thead th {\n",
       "        text-align: right;\n",
       "    }\n",
       "</style>\n",
       "<table border=\"1\" class=\"dataframe\">\n",
       "  <thead>\n",
       "    <tr style=\"text-align: right;\">\n",
       "      <th></th>\n",
       "      <th>user_id_x</th>\n",
       "      <th>firt_session_time</th>\n",
       "      <th>user_id_y</th>\n",
       "      <th>session_start</th>\n",
       "      <th>session_end</th>\n",
       "      <th>session_id</th>\n",
       "      <th>session_type</th>\n",
       "    </tr>\n",
       "  </thead>\n",
       "  <tbody>\n",
       "    <tr>\n",
       "      <th>0</th>\n",
       "      <td>0</td>\n",
       "      <td>2020-03-11 03:01:40</td>\n",
       "      <td>0</td>\n",
       "      <td>2020-03-11 03:01:40</td>\n",
       "      <td>2020-03-11 03:01:59</td>\n",
       "      <td>782</td>\n",
       "      <td>streamer</td>\n",
       "    </tr>\n",
       "    <tr>\n",
       "      <th>1</th>\n",
       "      <td>1</td>\n",
       "      <td>2020-11-19 06:24:24</td>\n",
       "      <td>1</td>\n",
       "      <td>2020-11-19 06:24:24</td>\n",
       "      <td>2020-11-19 07:24:38</td>\n",
       "      <td>515</td>\n",
       "      <td>viewer</td>\n",
       "    </tr>\n",
       "    <tr>\n",
       "      <th>2</th>\n",
       "      <td>2</td>\n",
       "      <td>2020-07-11 03:36:54</td>\n",
       "      <td>2</td>\n",
       "      <td>2020-07-11 03:36:54</td>\n",
       "      <td>2020-07-11 03:37:08</td>\n",
       "      <td>840</td>\n",
       "      <td>streamer</td>\n",
       "    </tr>\n",
       "    <tr>\n",
       "      <th>3</th>\n",
       "      <td>3</td>\n",
       "      <td>2020-10-11 22:15:14</td>\n",
       "      <td>3</td>\n",
       "      <td>2020-10-11 22:15:14</td>\n",
       "      <td>2020-10-11 22:18:28</td>\n",
       "      <td>630</td>\n",
       "      <td>viewer</td>\n",
       "    </tr>\n",
       "  </tbody>\n",
       "</table>\n",
       "</div>"
      ],
      "text/plain": [
       "   user_id_x   firt_session_time  user_id_y       session_start  \\\n",
       "0          0 2020-03-11 03:01:40          0 2020-03-11 03:01:40   \n",
       "1          1 2020-11-19 06:24:24          1 2020-11-19 06:24:24   \n",
       "2          2 2020-07-11 03:36:54          2 2020-07-11 03:36:54   \n",
       "3          3 2020-10-11 22:15:14          3 2020-10-11 22:15:14   \n",
       "\n",
       "          session_end  session_id session_type  \n",
       "0 2020-03-11 03:01:59         782     streamer  \n",
       "1 2020-11-19 07:24:38         515       viewer  \n",
       "2 2020-07-11 03:37:08         840     streamer  \n",
       "3 2020-10-11 22:18:28         630       viewer  "
      ]
     },
     "execution_count": 12,
     "metadata": {},
     "output_type": "execute_result"
    }
   ],
   "source": [
    "# add the session type info into the aboved tables\n",
    "first_session_info=first_session.merge(q,left_on='firt_session_time',right_on='session_start')\n",
    "first_session_info"
   ]
  },
  {
   "cell_type": "code",
   "execution_count": 36,
   "id": "16c36b68",
   "metadata": {},
   "outputs": [],
   "source": [
    "# find users who first time uses the website as the viewer\n",
    "view_id=first_session_info[first_session_info.session_type=='viewer'].user_id_x.values"
   ]
  },
  {
   "cell_type": "code",
   "execution_count": 48,
   "id": "1e4b3f42",
   "metadata": {},
   "outputs": [
    {
     "data": {
      "text/plain": [
       "[False, False, True, True, False, False, False, True, True, False]"
      ]
     },
     "execution_count": 48,
     "metadata": {},
     "output_type": "execute_result"
    }
   ],
   "source": [
    "# filter user id which only in the above results\n",
    "flag=[]\n",
    "for i in q.user_id.values:\n",
    "    if i in view_id:\n",
    "        flag.append(True)\n",
    "    else:\n",
    "        flag.append(False)\n",
    "flag"
   ]
  },
  {
   "cell_type": "code",
   "execution_count": 49,
   "id": "a1b764b4",
   "metadata": {},
   "outputs": [],
   "source": [
    "q['flag']=flag"
   ]
  },
  {
   "cell_type": "code",
   "execution_count": 53,
   "id": "ad35b03e",
   "metadata": {},
   "outputs": [
    {
     "data": {
      "text/plain": [
       "user_id\n",
       "1    2\n",
       "3    2\n",
       "Name: session_type, dtype: int64"
      ]
     },
     "execution_count": 53,
     "metadata": {},
     "output_type": "execute_result"
    }
   ],
   "source": [
    "q[q.flag==True].groupby('user_id').session_type.count()"
   ]
  },
  {
   "cell_type": "code",
   "execution_count": null,
   "id": "1b50f651",
   "metadata": {},
   "outputs": [],
   "source": []
  }
 ],
 "metadata": {
  "kernelspec": {
   "display_name": "Python 3 (ipykernel)",
   "language": "python",
   "name": "python3"
  },
  "language_info": {
   "codemirror_mode": {
    "name": "ipython",
    "version": 3
   },
   "file_extension": ".py",
   "mimetype": "text/x-python",
   "name": "python",
   "nbconvert_exporter": "python",
   "pygments_lexer": "ipython3",
   "version": "3.9.13"
  }
 },
 "nbformat": 4,
 "nbformat_minor": 5
}
