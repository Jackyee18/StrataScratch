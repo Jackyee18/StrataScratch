{
 "cells": [
  {
   "cell_type": "markdown",
   "id": "b2073aa9",
   "metadata": {},
   "source": [
    "# Minimum Number of Platforms\n",
    "\n",
    "\n",
    "\n",
    "You are given a day worth of scheduled departure and arrival times of trains at one train station. One platform can only accommodate one train from the beginning of the minute it's scheduled to arrive until the end of the minute it's scheduled to depart. Find the minimum number of platforms necessary to accommodate the entire scheduled traffic.\n",
    "\n"
   ]
  },
  {
   "cell_type": "code",
   "execution_count": 2,
   "id": "ad827d3e",
   "metadata": {},
   "outputs": [],
   "source": [
    "import pandas as pd\n",
    "import numpy as np\n",
    "a=pd.read_csv('train_arrivals.csv')\n",
    "d=pd.read_csv('train_departures.csv')"
   ]
  },
  {
   "cell_type": "markdown",
   "id": "83b25c98",
   "metadata": {},
   "source": [
    "You are given a day worth of scheduled departure and arrival times of trains at one train station. One platform can only accommodate one train from the beginning of the minute it's scheduled to arrive until the end of the minute it's scheduled to depart. Find the minimum number of platforms necessary to accommodate the entire scheduled traffic."
   ]
  },
  {
   "cell_type": "code",
   "execution_count": 7,
   "id": "11a0f565",
   "metadata": {},
   "outputs": [
    {
     "data": {
      "text/html": [
       "<div>\n",
       "<style scoped>\n",
       "    .dataframe tbody tr th:only-of-type {\n",
       "        vertical-align: middle;\n",
       "    }\n",
       "\n",
       "    .dataframe tbody tr th {\n",
       "        vertical-align: top;\n",
       "    }\n",
       "\n",
       "    .dataframe thead th {\n",
       "        text-align: right;\n",
       "    }\n",
       "</style>\n",
       "<table border=\"1\" class=\"dataframe\">\n",
       "  <thead>\n",
       "    <tr style=\"text-align: right;\">\n",
       "      <th></th>\n",
       "      <th>train_id</th>\n",
       "      <th>arrival_time</th>\n",
       "      <th>departure_time</th>\n",
       "    </tr>\n",
       "  </thead>\n",
       "  <tbody>\n",
       "    <tr>\n",
       "      <th>0</th>\n",
       "      <td>1</td>\n",
       "      <td>2023-01-15 08:00:00</td>\n",
       "      <td>2023-01-15 08:15:00</td>\n",
       "    </tr>\n",
       "    <tr>\n",
       "      <th>1</th>\n",
       "      <td>2</td>\n",
       "      <td>2023-01-15 08:05:00</td>\n",
       "      <td>2023-01-15 08:10:00</td>\n",
       "    </tr>\n",
       "    <tr>\n",
       "      <th>2</th>\n",
       "      <td>3</td>\n",
       "      <td>2023-01-15 08:05:00</td>\n",
       "      <td>2023-01-15 08:20:00</td>\n",
       "    </tr>\n",
       "    <tr>\n",
       "      <th>3</th>\n",
       "      <td>4</td>\n",
       "      <td>2023-01-15 08:10:00</td>\n",
       "      <td>2023-01-15 08:25:00</td>\n",
       "    </tr>\n",
       "    <tr>\n",
       "      <th>4</th>\n",
       "      <td>5</td>\n",
       "      <td>2023-01-15 08:10:00</td>\n",
       "      <td>2023-01-15 08:20:00</td>\n",
       "    </tr>\n",
       "    <tr>\n",
       "      <th>5</th>\n",
       "      <td>6</td>\n",
       "      <td>2023-01-15 12:15:00</td>\n",
       "      <td>2023-01-15 13:00:00</td>\n",
       "    </tr>\n",
       "    <tr>\n",
       "      <th>6</th>\n",
       "      <td>7</td>\n",
       "      <td>2023-01-15 12:20:00</td>\n",
       "      <td>2023-01-15 12:25:00</td>\n",
       "    </tr>\n",
       "    <tr>\n",
       "      <th>7</th>\n",
       "      <td>8</td>\n",
       "      <td>2023-01-15 12:25:00</td>\n",
       "      <td>2023-01-15 12:30:00</td>\n",
       "    </tr>\n",
       "    <tr>\n",
       "      <th>8</th>\n",
       "      <td>9</td>\n",
       "      <td>2023-01-15 15:00:00</td>\n",
       "      <td>2023-01-15 15:05:00</td>\n",
       "    </tr>\n",
       "    <tr>\n",
       "      <th>9</th>\n",
       "      <td>10</td>\n",
       "      <td>2023-01-15 15:00:00</td>\n",
       "      <td>2023-01-15 15:10:00</td>\n",
       "    </tr>\n",
       "    <tr>\n",
       "      <th>10</th>\n",
       "      <td>11</td>\n",
       "      <td>2023-01-15 15:00:00</td>\n",
       "      <td>2023-01-15 15:15:00</td>\n",
       "    </tr>\n",
       "    <tr>\n",
       "      <th>11</th>\n",
       "      <td>12</td>\n",
       "      <td>2023-01-15 15:06:00</td>\n",
       "      <td>2023-01-15 15:15:00</td>\n",
       "    </tr>\n",
       "    <tr>\n",
       "      <th>12</th>\n",
       "      <td>13</td>\n",
       "      <td>2023-01-15 20:00:00</td>\n",
       "      <td>2023-01-15 20:15:00</td>\n",
       "    </tr>\n",
       "    <tr>\n",
       "      <th>13</th>\n",
       "      <td>14</td>\n",
       "      <td>2023-01-15 20:10:00</td>\n",
       "      <td>2023-01-15 20:15:00</td>\n",
       "    </tr>\n",
       "  </tbody>\n",
       "</table>\n",
       "</div>"
      ],
      "text/plain": [
       "    train_id        arrival_time      departure_time\n",
       "0          1 2023-01-15 08:00:00 2023-01-15 08:15:00\n",
       "1          2 2023-01-15 08:05:00 2023-01-15 08:10:00\n",
       "2          3 2023-01-15 08:05:00 2023-01-15 08:20:00\n",
       "3          4 2023-01-15 08:10:00 2023-01-15 08:25:00\n",
       "4          5 2023-01-15 08:10:00 2023-01-15 08:20:00\n",
       "5          6 2023-01-15 12:15:00 2023-01-15 13:00:00\n",
       "6          7 2023-01-15 12:20:00 2023-01-15 12:25:00\n",
       "7          8 2023-01-15 12:25:00 2023-01-15 12:30:00\n",
       "8          9 2023-01-15 15:00:00 2023-01-15 15:05:00\n",
       "9         10 2023-01-15 15:00:00 2023-01-15 15:10:00\n",
       "10        11 2023-01-15 15:00:00 2023-01-15 15:15:00\n",
       "11        12 2023-01-15 15:06:00 2023-01-15 15:15:00\n",
       "12        13 2023-01-15 20:00:00 2023-01-15 20:15:00\n",
       "13        14 2023-01-15 20:10:00 2023-01-15 20:15:00"
      ]
     },
     "execution_count": 7,
     "metadata": {},
     "output_type": "execute_result"
    }
   ],
   "source": [
    "q=pd.merge(a,d)\n",
    "q[['arrival_time','departure_time']]=q[['arrival_time','departure_time']].apply(pd.to_datetime)\n",
    "q"
   ]
  },
  {
   "cell_type": "code",
   "execution_count": 95,
   "id": "2da8f49c",
   "metadata": {
    "scrolled": false
   },
   "outputs": [
    {
     "data": {
      "text/plain": [
       "4"
      ]
     },
     "execution_count": 95,
     "metadata": {},
     "output_type": "execute_result"
    }
   ],
   "source": [
    "plant_need=0\n",
    "for i in range(len(q)):\n",
    "    for j in range(1,len(q)):\n",
    "        if j-i==1:\n",
    "            if q.arrival_time[j] <= q.arrival_time[i] and q.arrival_time[j] <= q.departure_time[i]:\n",
    "                plant_need +=1\n",
    "    \n",
    "plant_need"
   ]
  },
  {
   "cell_type": "code",
   "execution_count": 93,
   "id": "66b87c7a",
   "metadata": {},
   "outputs": [
    {
     "data": {
      "text/plain": [
       "False"
      ]
     },
     "execution_count": 93,
     "metadata": {},
     "output_type": "execute_result"
    }
   ],
   "source": [
    "q.arrival_time[1]<q.arrival_time[0]"
   ]
  },
  {
   "cell_type": "code",
   "execution_count": 89,
   "id": "e52b27bd",
   "metadata": {},
   "outputs": [
    {
     "name": "stdout",
     "output_type": "stream",
     "text": [
      "0 1\n",
      "1 2\n",
      "2 3\n",
      "3 4\n"
     ]
    }
   ],
   "source": [
    "for i in range(5):\n",
    "    for j in range(5):\n",
    "        if j-i==1:\n",
    "            print(i,j)\n"
   ]
  },
  {
   "cell_type": "code",
   "execution_count": 94,
   "id": "19cd9f9b",
   "metadata": {},
   "outputs": [
    {
     "data": {
      "text/plain": [
       "5"
      ]
     },
     "execution_count": 94,
     "metadata": {},
     "output_type": "execute_result"
    }
   ],
   "source": [
    "plant_need=0\n",
    "for i in range(len(q)):\n",
    "    for j in range(1,len(q)):\n",
    "        if j>i:\n",
    "            if q.arrival_time[j] <= q.arrival_time[i] and q.arrival_time[j] <= q.departure_time[i]:\n",
    "                plant_need +=1\n",
    "    \n",
    "plant_need"
   ]
  },
  {
   "cell_type": "code",
   "execution_count": 90,
   "id": "9f2fd08f",
   "metadata": {
    "scrolled": true
   },
   "outputs": [
    {
     "name": "stdout",
     "output_type": "stream",
     "text": [
      "0 1\n",
      "0 2\n",
      "0 3\n",
      "0 4\n",
      "1 2\n",
      "1 3\n",
      "1 4\n",
      "2 3\n",
      "2 4\n",
      "3 4\n"
     ]
    }
   ],
   "source": [
    "for i in range(5):\n",
    "    for j in range(5):\n",
    "        if j>i:\n",
    "            print(i,j)\n"
   ]
  },
  {
   "cell_type": "code",
   "execution_count": null,
   "id": "4ebc4c76",
   "metadata": {},
   "outputs": [],
   "source": []
  },
  {
   "cell_type": "code",
   "execution_count": 155,
   "id": "30d40609",
   "metadata": {},
   "outputs": [
    {
     "data": {
      "text/plain": [
       "[8]"
      ]
     },
     "execution_count": 155,
     "metadata": {},
     "output_type": "execute_result"
    }
   ],
   "source": [
    "# Program to find minimum number of platforms\n",
    "# required on a railway station\n",
    " \n",
    " \n",
    "def findPlatform(arr, dep, n):\n",
    "    '''\n",
    "    Accepts two arrays with arrival and departure time\n",
    "    and the size of the array\n",
    "    Returns minimum number of platforms required\n",
    "    '''\n",
    " \n",
    "    # plat_needed indicates number of platforms\n",
    "    # needed at a time\n",
    "    plat_needed = 1\n",
    "    result = 1\n",
    " \n",
    "    # run a nested loop to find overlap\n",
    "    for i in range(n):\n",
    "        # minimum platform needed\n",
    "        plat_needed = 1\n",
    " \n",
    "        for j in range(n):\n",
    "            # check for overlap\n",
    "            if i != j:\n",
    "                if (arr[i] >= arr[j] and dep[j] >= arr[i]):\n",
    "                    plat_needed += 1\n",
    " \n",
    "        # update result\n",
    "        result = max(result, plat_needed)\n",
    " \n",
    "    return result\n",
    " \n",
    "# Driver code\n",
    " \n",
    " \n",
    "def main():\n",
    "    arr = [100, 300, 500]\n",
    "    dep = [900, 400, 600]\n",
    " \n",
    "    n = len(arr)\n",
    " \n",
    "    print(\"{}\".format(\n",
    "        findPlatform(arr, dep, n)))\n",
    " \n",
    " \n",
    "if __name__ == '__main__':\n",
    "    main()"
   ]
  },
  {
   "cell_type": "code",
   "execution_count": null,
   "id": "439aac92",
   "metadata": {},
   "outputs": [],
   "source": []
  }
 ],
 "metadata": {
  "kernelspec": {
   "display_name": "Python 3 (ipykernel)",
   "language": "python",
   "name": "python3"
  },
  "language_info": {
   "codemirror_mode": {
    "name": "ipython",
    "version": 3
   },
   "file_extension": ".py",
   "mimetype": "text/x-python",
   "name": "python",
   "nbconvert_exporter": "python",
   "pygments_lexer": "ipython3",
   "version": "3.9.13"
  }
 },
 "nbformat": 4,
 "nbformat_minor": 5
}
