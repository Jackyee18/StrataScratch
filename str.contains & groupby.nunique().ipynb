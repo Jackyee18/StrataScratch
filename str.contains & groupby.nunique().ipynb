{
 "cells": [
  {
   "cell_type": "markdown",
   "id": "6503db40",
   "metadata": {},
   "source": [
    "# The Most Popular Client_Id Among Users Using Video and Voice Calls\n",
    "\n",
    "\n",
    "Select the most popular client_id based on a count of the number of users who have at least 50% of their events from the following list: 'video call received', 'video call sent', 'voice call received', 'voice call sent'.\n",
    "\n"
   ]
  },
  {
   "cell_type": "code",
   "execution_count": 1,
   "id": "14daf371",
   "metadata": {},
   "outputs": [
    {
     "data": {
      "text/html": [
       "<div>\n",
       "<style scoped>\n",
       "    .dataframe tbody tr th:only-of-type {\n",
       "        vertical-align: middle;\n",
       "    }\n",
       "\n",
       "    .dataframe tbody tr th {\n",
       "        vertical-align: top;\n",
       "    }\n",
       "\n",
       "    .dataframe thead th {\n",
       "        text-align: right;\n",
       "    }\n",
       "</style>\n",
       "<table border=\"1\" class=\"dataframe\">\n",
       "  <thead>\n",
       "    <tr style=\"text-align: right;\">\n",
       "      <th></th>\n",
       "      <th>id</th>\n",
       "      <th>time_id</th>\n",
       "      <th>user_id</th>\n",
       "      <th>customer_id</th>\n",
       "      <th>client_id</th>\n",
       "      <th>event_type</th>\n",
       "      <th>event_id</th>\n",
       "    </tr>\n",
       "  </thead>\n",
       "  <tbody>\n",
       "    <tr>\n",
       "      <th>0</th>\n",
       "      <td>1</td>\n",
       "      <td>2020-02-28</td>\n",
       "      <td>3668-QPYBK</td>\n",
       "      <td>Sendit</td>\n",
       "      <td>desktop</td>\n",
       "      <td>message sent</td>\n",
       "      <td>3</td>\n",
       "    </tr>\n",
       "    <tr>\n",
       "      <th>1</th>\n",
       "      <td>2</td>\n",
       "      <td>2020-02-28</td>\n",
       "      <td>7892-POOKP</td>\n",
       "      <td>Connectix</td>\n",
       "      <td>mobile</td>\n",
       "      <td>file received</td>\n",
       "      <td>2</td>\n",
       "    </tr>\n",
       "    <tr>\n",
       "      <th>2</th>\n",
       "      <td>3</td>\n",
       "      <td>2020-04-03</td>\n",
       "      <td>9763-GRSKD</td>\n",
       "      <td>Zoomit</td>\n",
       "      <td>desktop</td>\n",
       "      <td>video call received</td>\n",
       "      <td>7</td>\n",
       "    </tr>\n",
       "    <tr>\n",
       "      <th>3</th>\n",
       "      <td>4</td>\n",
       "      <td>2020-04-02</td>\n",
       "      <td>9763-GRSKD</td>\n",
       "      <td>Connectix</td>\n",
       "      <td>desktop</td>\n",
       "      <td>video call received</td>\n",
       "      <td>7</td>\n",
       "    </tr>\n",
       "    <tr>\n",
       "      <th>4</th>\n",
       "      <td>5</td>\n",
       "      <td>2020-02-06</td>\n",
       "      <td>9237-HQITU</td>\n",
       "      <td>Sendit</td>\n",
       "      <td>desktop</td>\n",
       "      <td>video call received</td>\n",
       "      <td>7</td>\n",
       "    </tr>\n",
       "    <tr>\n",
       "      <th>...</th>\n",
       "      <td>...</td>\n",
       "      <td>...</td>\n",
       "      <td>...</td>\n",
       "      <td>...</td>\n",
       "      <td>...</td>\n",
       "      <td>...</td>\n",
       "      <td>...</td>\n",
       "    </tr>\n",
       "    <tr>\n",
       "      <th>145</th>\n",
       "      <td>146</td>\n",
       "      <td>2020-03-07</td>\n",
       "      <td>6388-TABGU</td>\n",
       "      <td>Connectix</td>\n",
       "      <td>desktop</td>\n",
       "      <td>voice call received</td>\n",
       "      <td>9</td>\n",
       "    </tr>\n",
       "    <tr>\n",
       "      <th>146</th>\n",
       "      <td>147</td>\n",
       "      <td>2020-03-21</td>\n",
       "      <td>8091-TTVAX</td>\n",
       "      <td>Connectix</td>\n",
       "      <td>mobile</td>\n",
       "      <td>message sent</td>\n",
       "      <td>3</td>\n",
       "    </tr>\n",
       "    <tr>\n",
       "      <th>147</th>\n",
       "      <td>148</td>\n",
       "      <td>2020-04-03</td>\n",
       "      <td>8191-XWSZG</td>\n",
       "      <td>Connectix</td>\n",
       "      <td>desktop</td>\n",
       "      <td>file received</td>\n",
       "      <td>2</td>\n",
       "    </tr>\n",
       "    <tr>\n",
       "      <th>148</th>\n",
       "      <td>149</td>\n",
       "      <td>2020-02-22</td>\n",
       "      <td>7795-CFOCW</td>\n",
       "      <td>Connectix</td>\n",
       "      <td>desktop</td>\n",
       "      <td>message received</td>\n",
       "      <td>4</td>\n",
       "    </tr>\n",
       "    <tr>\n",
       "      <th>149</th>\n",
       "      <td>150</td>\n",
       "      <td>2020-02-14</td>\n",
       "      <td>7590-VHVEG</td>\n",
       "      <td>Connectix</td>\n",
       "      <td>desktop</td>\n",
       "      <td>message received</td>\n",
       "      <td>4</td>\n",
       "    </tr>\n",
       "  </tbody>\n",
       "</table>\n",
       "<p>150 rows × 7 columns</p>\n",
       "</div>"
      ],
      "text/plain": [
       "      id    time_id     user_id customer_id client_id           event_type  \\\n",
       "0      1 2020-02-28  3668-QPYBK      Sendit   desktop         message sent   \n",
       "1      2 2020-02-28  7892-POOKP   Connectix    mobile        file received   \n",
       "2      3 2020-04-03  9763-GRSKD      Zoomit   desktop  video call received   \n",
       "3      4 2020-04-02  9763-GRSKD   Connectix   desktop  video call received   \n",
       "4      5 2020-02-06  9237-HQITU      Sendit   desktop  video call received   \n",
       "..   ...        ...         ...         ...       ...                  ...   \n",
       "145  146 2020-03-07  6388-TABGU   Connectix   desktop  voice call received   \n",
       "146  147 2020-03-21  8091-TTVAX   Connectix    mobile         message sent   \n",
       "147  148 2020-04-03  8191-XWSZG   Connectix   desktop        file received   \n",
       "148  149 2020-02-22  7795-CFOCW   Connectix   desktop     message received   \n",
       "149  150 2020-02-14  7590-VHVEG   Connectix   desktop     message received   \n",
       "\n",
       "     event_id  \n",
       "0           3  \n",
       "1           2  \n",
       "2           7  \n",
       "3           7  \n",
       "4           7  \n",
       "..        ...  \n",
       "145         9  \n",
       "146         3  \n",
       "147         2  \n",
       "148         4  \n",
       "149         4  \n",
       "\n",
       "[150 rows x 7 columns]"
      ]
     },
     "execution_count": 1,
     "metadata": {},
     "output_type": "execute_result"
    }
   ],
   "source": [
    "import pandas as pd\n",
    "import numpy as np\n",
    "q=pd.read_csv('fact_events.csv')\n",
    "q.time_id=q.time_id.apply(pd.to_datetime)\n",
    "q"
   ]
  },
  {
   "cell_type": "code",
   "execution_count": 27,
   "id": "14aef7ae",
   "metadata": {},
   "outputs": [
    {
     "data": {
      "text/plain": [
       "array(['message sent', 'file received', 'video call received',\n",
       "       'message received', 'video call started', 'file sent',\n",
       "       'voice call started', 'api message received',\n",
       "       'voice call received'], dtype=object)"
      ]
     },
     "execution_count": 27,
     "metadata": {},
     "output_type": "execute_result"
    }
   ],
   "source": [
    "q.event_type.unique()"
   ]
  },
  {
   "cell_type": "code",
   "execution_count": 30,
   "id": "ca4cd05e",
   "metadata": {},
   "outputs": [
    {
     "data": {
      "text/plain": [
       "client_id\n",
       "desktop    15\n",
       "mobile     13\n",
       "Name: user_id, dtype: int64"
      ]
     },
     "execution_count": 30,
     "metadata": {},
     "output_type": "execute_result"
    }
   ],
   "source": [
    "q[q.event_type.str.contains('voice|video')].groupby('client_id').user_id.nunique()"
   ]
  },
  {
   "cell_type": "code",
   "execution_count": 34,
   "id": "5c025456",
   "metadata": {},
   "outputs": [
    {
     "data": {
      "text/plain": [
       "client_id\n",
       "desktop    20\n",
       "mobile     18\n",
       "Name: user_id, dtype: int64"
      ]
     },
     "execution_count": 34,
     "metadata": {},
     "output_type": "execute_result"
    }
   ],
   "source": [
    "# total user of each client id\n",
    "q.groupby('client_id').user_id.nunique()"
   ]
  },
  {
   "cell_type": "code",
   "execution_count": 48,
   "id": "e20e3baf",
   "metadata": {},
   "outputs": [],
   "source": [
    "# total users which take voice/video events of each client_id\n",
    "q1=q[q.event_type.str.contains('voice|video')].groupby('client_id').user_id.nunique().reset_index(name='user_take_voicevideo')"
   ]
  },
  {
   "cell_type": "code",
   "execution_count": 47,
   "id": "8dfd609f",
   "metadata": {},
   "outputs": [],
   "source": [
    "# total users which take all events of each client_id\n",
    "q2=q.groupby('client_id').user_id.nunique().reset_index(name='total_users')"
   ]
  },
  {
   "cell_type": "code",
   "execution_count": 50,
   "id": "d341e3e4",
   "metadata": {},
   "outputs": [],
   "source": [
    "final=pd.merge(q1,q2)"
   ]
  },
  {
   "cell_type": "code",
   "execution_count": 55,
   "id": "7a98e5a5",
   "metadata": {},
   "outputs": [],
   "source": [
    "final['voicevdeo_ratio']=(final.user_take_voicevideo/final.total_users*100).round(1)"
   ]
  },
  {
   "cell_type": "code",
   "execution_count": 56,
   "id": "37cd4940",
   "metadata": {},
   "outputs": [
    {
     "data": {
      "text/html": [
       "<div>\n",
       "<style scoped>\n",
       "    .dataframe tbody tr th:only-of-type {\n",
       "        vertical-align: middle;\n",
       "    }\n",
       "\n",
       "    .dataframe tbody tr th {\n",
       "        vertical-align: top;\n",
       "    }\n",
       "\n",
       "    .dataframe thead th {\n",
       "        text-align: right;\n",
       "    }\n",
       "</style>\n",
       "<table border=\"1\" class=\"dataframe\">\n",
       "  <thead>\n",
       "    <tr style=\"text-align: right;\">\n",
       "      <th></th>\n",
       "      <th>client_id</th>\n",
       "      <th>user_take_voicevideo</th>\n",
       "      <th>total_users</th>\n",
       "      <th>voicevdeo_ratio</th>\n",
       "    </tr>\n",
       "  </thead>\n",
       "  <tbody>\n",
       "    <tr>\n",
       "      <th>0</th>\n",
       "      <td>desktop</td>\n",
       "      <td>15</td>\n",
       "      <td>20</td>\n",
       "      <td>75.0</td>\n",
       "    </tr>\n",
       "    <tr>\n",
       "      <th>1</th>\n",
       "      <td>mobile</td>\n",
       "      <td>13</td>\n",
       "      <td>18</td>\n",
       "      <td>72.2</td>\n",
       "    </tr>\n",
       "  </tbody>\n",
       "</table>\n",
       "</div>"
      ],
      "text/plain": [
       "  client_id  user_take_voicevideo  total_users  voicevdeo_ratio\n",
       "0   desktop                    15           20             75.0\n",
       "1    mobile                    13           18             72.2"
      ]
     },
     "execution_count": 56,
     "metadata": {},
     "output_type": "execute_result"
    }
   ],
   "source": [
    "final"
   ]
  },
  {
   "cell_type": "code",
   "execution_count": null,
   "id": "cc94fb70",
   "metadata": {},
   "outputs": [],
   "source": []
  },
  {
   "cell_type": "code",
   "execution_count": null,
   "id": "e1cc0268",
   "metadata": {},
   "outputs": [],
   "source": []
  },
  {
   "cell_type": "code",
   "execution_count": null,
   "id": "d6ef0876",
   "metadata": {},
   "outputs": [],
   "source": []
  }
 ],
 "metadata": {
  "kernelspec": {
   "display_name": "Python 3 (ipykernel)",
   "language": "python",
   "name": "python3"
  },
  "language_info": {
   "codemirror_mode": {
    "name": "ipython",
    "version": 3
   },
   "file_extension": ".py",
   "mimetype": "text/x-python",
   "name": "python",
   "nbconvert_exporter": "python",
   "pygments_lexer": "ipython3",
   "version": "3.9.13"
  }
 },
 "nbformat": 4,
 "nbformat_minor": 5
}
