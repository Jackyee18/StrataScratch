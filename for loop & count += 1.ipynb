{
 "cells": [
  {
   "cell_type": "markdown",
   "id": "1bd88068",
   "metadata": {},
   "source": [
    "# Counting Instances in Text\n",
    "\n",
    "\n",
    "\n",
    "Find the number of times the words 'bull' and 'bear' occur in the contents. We're counting the number of times the words occur so words like 'bullish' should not be included in our count.\n",
    "Output the word 'bull' and 'bear' along with the corresponding number of occurrences."
   ]
  },
  {
   "cell_type": "code",
   "execution_count": 1,
   "id": "752b8897",
   "metadata": {},
   "outputs": [
    {
     "data": {
      "text/html": [
       "<div>\n",
       "<style scoped>\n",
       "    .dataframe tbody tr th:only-of-type {\n",
       "        vertical-align: middle;\n",
       "    }\n",
       "\n",
       "    .dataframe tbody tr th {\n",
       "        vertical-align: top;\n",
       "    }\n",
       "\n",
       "    .dataframe thead th {\n",
       "        text-align: right;\n",
       "    }\n",
       "</style>\n",
       "<table border=\"1\" class=\"dataframe\">\n",
       "  <thead>\n",
       "    <tr style=\"text-align: right;\">\n",
       "      <th></th>\n",
       "      <th>filename</th>\n",
       "      <th>contents</th>\n",
       "    </tr>\n",
       "  </thead>\n",
       "  <tbody>\n",
       "    <tr>\n",
       "      <th>0</th>\n",
       "      <td>draft1.txt</td>\n",
       "      <td>The stock exchange predicts a bull market whic...</td>\n",
       "    </tr>\n",
       "    <tr>\n",
       "      <th>1</th>\n",
       "      <td>draft2.txt</td>\n",
       "      <td>The stock exchange predicts a bull market whic...</td>\n",
       "    </tr>\n",
       "    <tr>\n",
       "      <th>2</th>\n",
       "      <td>final.txt</td>\n",
       "      <td>The stock exchange predicts a bull market whic...</td>\n",
       "    </tr>\n",
       "  </tbody>\n",
       "</table>\n",
       "</div>"
      ],
      "text/plain": [
       "     filename                                           contents\n",
       "0  draft1.txt  The stock exchange predicts a bull market whic...\n",
       "1  draft2.txt  The stock exchange predicts a bull market whic...\n",
       "2   final.txt  The stock exchange predicts a bull market whic..."
      ]
     },
     "execution_count": 1,
     "metadata": {},
     "output_type": "execute_result"
    }
   ],
   "source": [
    "import pandas as pd\n",
    "import numpy as np\n",
    "q=pd.read_csv('google_file_store.csv')\n",
    "q"
   ]
  },
  {
   "cell_type": "code",
   "execution_count": null,
   "id": "277b7bb1",
   "metadata": {},
   "outputs": [],
   "source": [
    "import re\n",
    "bear_find=[] # variable to save the position of word\n",
    "bear_count=0 # variable to count the occurences\n",
    "\n",
    "for i in q.contents.values:\n",
    "    x= re.search('bear',i) # find 'bear' iterate all values of column\n",
    "    if x != None: # check if 'bear' is in the values of columns\n",
    "        bear_count = bear_count + 1 # count 1 if there is\n",
    "    bear_find.append(x) # save the result into the list\n",
    "\n",
    "bear_count"
   ]
  },
  {
   "cell_type": "code",
   "execution_count": null,
   "id": "e83d3455",
   "metadata": {},
   "outputs": [],
   "source": [
    "import re\n",
    "bull_find=[] # variable to save the position of word\n",
    "bull_count=0 # variable to count the occurences\n",
    "\n",
    "for i in q.contents.values:\n",
    "    x = re.search('bull',i) # find 'bear' iterate all values of column\n",
    "    if x != None: # check if 'bear' is in the values of columns\n",
    "        bull_count = bull_count + 1 # count 1 if there is\n",
    "    bull_find.append(x) # save the result into the list\n",
    "\n",
    "bull_count"
   ]
  },
  {
   "cell_type": "code",
   "execution_count": 51,
   "id": "9a8ed916",
   "metadata": {},
   "outputs": [
    {
     "data": {
      "text/html": [
       "<div>\n",
       "<style scoped>\n",
       "    .dataframe tbody tr th:only-of-type {\n",
       "        vertical-align: middle;\n",
       "    }\n",
       "\n",
       "    .dataframe tbody tr th {\n",
       "        vertical-align: top;\n",
       "    }\n",
       "\n",
       "    .dataframe thead th {\n",
       "        text-align: right;\n",
       "    }\n",
       "</style>\n",
       "<table border=\"1\" class=\"dataframe\">\n",
       "  <thead>\n",
       "    <tr style=\"text-align: right;\">\n",
       "      <th></th>\n",
       "      <th>total_count</th>\n",
       "    </tr>\n",
       "  </thead>\n",
       "  <tbody>\n",
       "    <tr>\n",
       "      <th>bear</th>\n",
       "      <td>2</td>\n",
       "    </tr>\n",
       "    <tr>\n",
       "      <th>bull</th>\n",
       "      <td>3</td>\n",
       "    </tr>\n",
       "  </tbody>\n",
       "</table>\n",
       "</div>"
      ],
      "text/plain": [
       "      total_count\n",
       "bear            2\n",
       "bull            3"
      ]
     },
     "execution_count": 51,
     "metadata": {},
     "output_type": "execute_result"
    }
   ],
   "source": [
    "pd.DataFrame([bear_count,bull_count],['bear','bull']).rename(columns={0:'total_count'})"
   ]
  },
  {
   "cell_type": "code",
   "execution_count": null,
   "id": "3cecfb0a",
   "metadata": {},
   "outputs": [],
   "source": []
  },
  {
   "cell_type": "code",
   "execution_count": null,
   "id": "cc5c2549",
   "metadata": {},
   "outputs": [],
   "source": []
  },
  {
   "cell_type": "markdown",
   "id": "7f846284",
   "metadata": {},
   "source": [
    "# Check with other dataset which contain 'bullshit' 'pullbear' & 'bearing'"
   ]
  },
  {
   "cell_type": "code",
   "execution_count": 7,
   "id": "6e4e1fd2",
   "metadata": {},
   "outputs": [
    {
     "data": {
      "text/html": [
       "<div>\n",
       "<style scoped>\n",
       "    .dataframe tbody tr th:only-of-type {\n",
       "        vertical-align: middle;\n",
       "    }\n",
       "\n",
       "    .dataframe tbody tr th {\n",
       "        vertical-align: top;\n",
       "    }\n",
       "\n",
       "    .dataframe thead th {\n",
       "        text-align: right;\n",
       "    }\n",
       "</style>\n",
       "<table border=\"1\" class=\"dataframe\">\n",
       "  <thead>\n",
       "    <tr style=\"text-align: right;\">\n",
       "      <th></th>\n",
       "      <th>filename</th>\n",
       "      <th>contents</th>\n",
       "    </tr>\n",
       "  </thead>\n",
       "  <tbody>\n",
       "    <tr>\n",
       "      <th>0</th>\n",
       "      <td>draft1.txt</td>\n",
       "      <td>The stock exchange predicts a bull market whic...</td>\n",
       "    </tr>\n",
       "    <tr>\n",
       "      <th>1</th>\n",
       "      <td>draft2.txt</td>\n",
       "      <td>The stock exchange predicts a bull market whic...</td>\n",
       "    </tr>\n",
       "    <tr>\n",
       "      <th>2</th>\n",
       "      <td>final.txt</td>\n",
       "      <td>The stock exchange predicts a bull market whic...</td>\n",
       "    </tr>\n",
       "  </tbody>\n",
       "</table>\n",
       "</div>"
      ],
      "text/plain": [
       "     filename                                           contents\n",
       "0  draft1.txt  The stock exchange predicts a bull market whic...\n",
       "1  draft2.txt  The stock exchange predicts a bull market whic...\n",
       "2   final.txt  The stock exchange predicts a bull market whic..."
      ]
     },
     "execution_count": 7,
     "metadata": {},
     "output_type": "execute_result"
    }
   ],
   "source": [
    "import pandas as pd\n",
    "import numpy as np\n",
    "q1=pd.read_csv('google_file_store - Copy.csv')\n",
    "q1"
   ]
  },
  {
   "cell_type": "code",
   "execution_count": 52,
   "id": "8ec54c19",
   "metadata": {},
   "outputs": [
    {
     "data": {
      "text/plain": [
       "0    0\n",
       "1    1\n",
       "2    1\n",
       "Name: contents, dtype: int64"
      ]
     },
     "execution_count": 52,
     "metadata": {},
     "output_type": "execute_result"
    }
   ],
   "source": [
    "q.contents.str.count('bear') "
   ]
  },
  {
   "cell_type": "code",
   "execution_count": 8,
   "id": "4572066e",
   "metadata": {},
   "outputs": [
    {
     "data": {
      "text/plain": [
       "0    0\n",
       "1    2\n",
       "2    2\n",
       "Name: contents, dtype: int64"
      ]
     },
     "execution_count": 8,
     "metadata": {},
     "output_type": "execute_result"
    }
   ],
   "source": [
    "q1.contents.str.count('bear') # this solution can not find the exact word 'bear' with 'pullbear' & 'bearing'"
   ]
  },
  {
   "cell_type": "code",
   "execution_count": 10,
   "id": "24db47e5",
   "metadata": {},
   "outputs": [
    {
     "data": {
      "text/plain": [
       "[<re.Match object; span=(30, 34), match='bull'>,\n",
       " <re.Match object; span=(30, 34), match='bull'>,\n",
       " <re.Match object; span=(30, 34), match='bull'>]"
      ]
     },
     "execution_count": 10,
     "metadata": {},
     "output_type": "execute_result"
    }
   ],
   "source": [
    "import re\n",
    "bull_find=[]\n",
    "\n",
    "for i in q.contents.values:\n",
    "    x= re.search('bull',i)\n",
    "    bull_find.append(x)\n",
    "\n",
    "bull_find "
   ]
  },
  {
   "cell_type": "code",
   "execution_count": 13,
   "id": "3407ef57",
   "metadata": {},
   "outputs": [
    {
     "data": {
      "text/plain": [
       "[<re.Match object; span=(30, 34), match='bull'>,\n",
       " <re.Match object; span=(30, 34), match='bull'>,\n",
       " <re.Match object; span=(30, 34), match='bull'>]"
      ]
     },
     "execution_count": 13,
     "metadata": {},
     "output_type": "execute_result"
    }
   ],
   "source": [
    "import re\n",
    "bull_find1=[]\n",
    "\n",
    "for i in q1.contents.values:\n",
    "    x= re.search('bull',i)\n",
    "    bull_find1.append(x)\n",
    "\n",
    "bull_find1 "
   ]
  },
  {
   "cell_type": "code",
   "execution_count": 11,
   "id": "3c577cf5",
   "metadata": {},
   "outputs": [
    {
     "data": {
      "text/plain": [
       "[None,\n",
       " <re.Match object; span=(170, 174), match='bear'>,\n",
       " <re.Match object; span=(170, 174), match='bear'>]"
      ]
     },
     "execution_count": 11,
     "metadata": {},
     "output_type": "execute_result"
    }
   ],
   "source": [
    "import re\n",
    "bear_find=[]\n",
    "\n",
    "for i in q.contents.values:\n",
    "    x= re.search('bear',i)\n",
    "    bear_find.append(x)\n",
    "\n",
    "bear_find "
   ]
  },
  {
   "cell_type": "code",
   "execution_count": 20,
   "id": "9c596884",
   "metadata": {},
   "outputs": [
    {
     "data": {
      "text/plain": [
       "[None,\n",
       " <re.Match object; span=(170, 174), match='bear'>,\n",
       " <re.Match object; span=(170, 174), match='bear'>]"
      ]
     },
     "execution_count": 20,
     "metadata": {},
     "output_type": "execute_result"
    }
   ],
   "source": [
    "import re\n",
    "bear_find1=[]\n",
    "\n",
    "for i in q1.contents.values:\n",
    "    x= re.search('bear',i)\n",
    "    bear_find1.append(x)\n",
    "\n",
    "bear_find1"
   ]
  }
 ],
 "metadata": {
  "kernelspec": {
   "display_name": "Python 3 (ipykernel)",
   "language": "python",
   "name": "python3"
  },
  "language_info": {
   "codemirror_mode": {
    "name": "ipython",
    "version": 3
   },
   "file_extension": ".py",
   "mimetype": "text/x-python",
   "name": "python",
   "nbconvert_exporter": "python",
   "pygments_lexer": "ipython3",
   "version": "3.9.13"
  }
 },
 "nbformat": 4,
 "nbformat_minor": 5
}
