{
 "cells": [
  {
   "cell_type": "code",
   "execution_count": 32,
   "id": "d1da1e5a",
   "metadata": {},
   "outputs": [],
   "source": [
    "import pandas as pd\n",
    "import numpy as np\n",
    "us=pd.read_csv('spotify_daily_rankings_2017_us.csv')\n",
    "pd.set_option('display.max_rows',500)"
   ]
  },
  {
   "cell_type": "code",
   "execution_count": 5,
   "id": "7f77b489",
   "metadata": {},
   "outputs": [],
   "source": [
    "ww=pd.read_csv('spotify_worldwide_daily_song_ranking.csv',encoding='latin-1')"
   ]
  },
  {
   "cell_type": "markdown",
   "id": "da76031f",
   "metadata": {},
   "source": [
    "# Days At Number One\n",
    "Find the number of days a US track has stayed in the 1st position for both the US and worldwide rankings. Output the track name and the number of days in the 1st position. Order your output alphabetically by track name.\n",
    "\n",
    "\n",
    "If the region 'US' appears in dataset, it should be included in the worldwide ranking."
   ]
  },
  {
   "cell_type": "code",
   "execution_count": 63,
   "id": "d8518ac6",
   "metadata": {},
   "outputs": [],
   "source": [
    "us.date=pd.to_datetime(us.date)\n",
    "us=us.sort_values(by='date',ascending=True)\n",
    "us['number_days_in_1st'] = us.date.diff()\n",
    "q1=us.groupby('trackname').number_days_in_1st.sum().reset_index().rename(columns={'number_days_in_1st':'number_days_in_1st_us'})"
   ]
  },
  {
   "cell_type": "code",
   "execution_count": 65,
   "id": "fd469f14",
   "metadata": {},
   "outputs": [],
   "source": [
    "ww.date=pd.to_datetime(ww.date)\n",
    "q=ww[(ww.region=='us')&(ww.position==1)]\n",
    "q=q.sort_values(by='date',ascending=True)\n",
    "q['number_days_in_1st']=q.date.diff()\n",
    "q2=q.groupby('trackname').number_days_in_1st.sum().reset_index().rename(columns={'number_days_in_1st':'number_days_in_1st_ww'})"
   ]
  },
  {
   "cell_type": "code",
   "execution_count": 66,
   "id": "8f7ce448",
   "metadata": {},
   "outputs": [
    {
     "data": {
      "text/html": [
       "<div>\n",
       "<style scoped>\n",
       "    .dataframe tbody tr th:only-of-type {\n",
       "        vertical-align: middle;\n",
       "    }\n",
       "\n",
       "    .dataframe tbody tr th {\n",
       "        vertical-align: top;\n",
       "    }\n",
       "\n",
       "    .dataframe thead th {\n",
       "        text-align: right;\n",
       "    }\n",
       "</style>\n",
       "<table border=\"1\" class=\"dataframe\">\n",
       "  <thead>\n",
       "    <tr style=\"text-align: right;\">\n",
       "      <th></th>\n",
       "      <th>trackname</th>\n",
       "      <th>number_days_in_1st_us</th>\n",
       "      <th>number_days_in_1st_ww</th>\n",
       "    </tr>\n",
       "  </thead>\n",
       "  <tbody>\n",
       "    <tr>\n",
       "      <th>0</th>\n",
       "      <td>Bad and Boujee (feat. Lil Uzi Vert)</td>\n",
       "      <td>19 days</td>\n",
       "      <td>0 days</td>\n",
       "    </tr>\n",
       "    <tr>\n",
       "      <th>1</th>\n",
       "      <td>HUMBLE.</td>\n",
       "      <td>79 days</td>\n",
       "      <td>84 days</td>\n",
       "    </tr>\n",
       "    <tr>\n",
       "      <th>2</th>\n",
       "      <td>Look What You Made Me Do</td>\n",
       "      <td>15 days</td>\n",
       "      <td>126 days</td>\n",
       "    </tr>\n",
       "  </tbody>\n",
       "</table>\n",
       "</div>"
      ],
      "text/plain": [
       "                             trackname number_days_in_1st_us  \\\n",
       "0  Bad and Boujee (feat. Lil Uzi Vert)               19 days   \n",
       "1                              HUMBLE.               79 days   \n",
       "2             Look What You Made Me Do               15 days   \n",
       "\n",
       "  number_days_in_1st_ww  \n",
       "0                0 days  \n",
       "1               84 days  \n",
       "2              126 days  "
      ]
     },
     "execution_count": 66,
     "metadata": {},
     "output_type": "execute_result"
    }
   ],
   "source": [
    "pd.merge(q1,q2)"
   ]
  },
  {
   "cell_type": "code",
   "execution_count": null,
   "id": "3340b56f",
   "metadata": {},
   "outputs": [],
   "source": []
  }
 ],
 "metadata": {
  "kernelspec": {
   "display_name": "Python 3 (ipykernel)",
   "language": "python",
   "name": "python3"
  },
  "language_info": {
   "codemirror_mode": {
    "name": "ipython",
    "version": 3
   },
   "file_extension": ".py",
   "mimetype": "text/x-python",
   "name": "python",
   "nbconvert_exporter": "python",
   "pygments_lexer": "ipython3",
   "version": "3.9.13"
  }
 },
 "nbformat": 4,
 "nbformat_minor": 5
}
