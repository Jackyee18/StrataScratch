{
 "cells": [
  {
   "cell_type": "markdown",
   "id": "ee8c3ff9",
   "metadata": {},
   "source": [
    "# Reviewed flags of top videos\n",
    "\n",
    "\n",
    "For the video (or videos) that received the most user flags, how many of these flags were reviewed by YouTube? Output the video ID and the corresponding number of reviewed flags."
   ]
  },
  {
   "cell_type": "code",
   "execution_count": 1,
   "id": "97a65cfb",
   "metadata": {},
   "outputs": [],
   "source": [
    "import pandas as pd\n",
    "uf=pd.read_csv('user_flags.csv')\n",
    "fr=pd.read_csv('flag_review.csv')"
   ]
  },
  {
   "cell_type": "code",
   "execution_count": 18,
   "id": "0694ba95",
   "metadata": {},
   "outputs": [],
   "source": [
    "total_flags_per_video=uf.groupby('video_id').flag_id.count().reset_index(name='total_flags')"
   ]
  },
  {
   "cell_type": "code",
   "execution_count": 9,
   "id": "e87517a1",
   "metadata": {},
   "outputs": [],
   "source": [
    "q=uf.merge(fr)"
   ]
  },
  {
   "cell_type": "code",
   "execution_count": 17,
   "id": "c7dcf57e",
   "metadata": {},
   "outputs": [],
   "source": [
    "total_review_by_yt_per_video=q[q.reviewed_by_yt==True].groupby('video_id').flag_id.count().reset_index(name='total_review_by_yt')"
   ]
  },
  {
   "cell_type": "code",
   "execution_count": 22,
   "id": "3c0098ef",
   "metadata": {
    "scrolled": true
   },
   "outputs": [],
   "source": [
    "review_vs_flag=pd.merge(total_review_by_yt_per_video,total_flags_per_video)"
   ]
  },
  {
   "cell_type": "code",
   "execution_count": 34,
   "id": "d7239642",
   "metadata": {},
   "outputs": [],
   "source": [
    "review_vs_flag['percentage']=(review_vs_flag.total_review_by_yt/review_vs_flag.total_flags*100).round(2).astype(str)+'%'"
   ]
  },
  {
   "cell_type": "code",
   "execution_count": 35,
   "id": "7a9f2fc7",
   "metadata": {},
   "outputs": [
    {
     "data": {
      "text/html": [
       "<div>\n",
       "<style scoped>\n",
       "    .dataframe tbody tr th:only-of-type {\n",
       "        vertical-align: middle;\n",
       "    }\n",
       "\n",
       "    .dataframe tbody tr th {\n",
       "        vertical-align: top;\n",
       "    }\n",
       "\n",
       "    .dataframe thead th {\n",
       "        text-align: right;\n",
       "    }\n",
       "</style>\n",
       "<table border=\"1\" class=\"dataframe\">\n",
       "  <thead>\n",
       "    <tr style=\"text-align: right;\">\n",
       "      <th></th>\n",
       "      <th>video_id</th>\n",
       "      <th>total_review_by_yt</th>\n",
       "      <th>total_flags</th>\n",
       "      <th>percentage</th>\n",
       "    </tr>\n",
       "  </thead>\n",
       "  <tbody>\n",
       "    <tr>\n",
       "      <th>0</th>\n",
       "      <td>5qap5aO4i9A</td>\n",
       "      <td>3</td>\n",
       "      <td>3</td>\n",
       "      <td>100.0%</td>\n",
       "    </tr>\n",
       "    <tr>\n",
       "      <th>1</th>\n",
       "      <td>Ct6BUPvE2sM</td>\n",
       "      <td>2</td>\n",
       "      <td>3</td>\n",
       "      <td>66.67%</td>\n",
       "    </tr>\n",
       "    <tr>\n",
       "      <th>2</th>\n",
       "      <td>dQw4w9WgXcQ</td>\n",
       "      <td>5</td>\n",
       "      <td>6</td>\n",
       "      <td>83.33%</td>\n",
       "    </tr>\n",
       "    <tr>\n",
       "      <th>3</th>\n",
       "      <td>jNQXAC9IVRw</td>\n",
       "      <td>4</td>\n",
       "      <td>5</td>\n",
       "      <td>80.0%</td>\n",
       "    </tr>\n",
       "    <tr>\n",
       "      <th>4</th>\n",
       "      <td>y6120QOlsfU</td>\n",
       "      <td>3</td>\n",
       "      <td>6</td>\n",
       "      <td>50.0%</td>\n",
       "    </tr>\n",
       "  </tbody>\n",
       "</table>\n",
       "</div>"
      ],
      "text/plain": [
       "      video_id  total_review_by_yt  total_flags percentage\n",
       "0  5qap5aO4i9A                   3            3     100.0%\n",
       "1  Ct6BUPvE2sM                   2            3     66.67%\n",
       "2  dQw4w9WgXcQ                   5            6     83.33%\n",
       "3  jNQXAC9IVRw                   4            5      80.0%\n",
       "4  y6120QOlsfU                   3            6      50.0%"
      ]
     },
     "execution_count": 35,
     "metadata": {},
     "output_type": "execute_result"
    }
   ],
   "source": [
    "review_vs_flag"
   ]
  },
  {
   "cell_type": "code",
   "execution_count": null,
   "id": "19c07751",
   "metadata": {},
   "outputs": [],
   "source": []
  },
  {
   "cell_type": "code",
   "execution_count": null,
   "id": "f418f56c",
   "metadata": {},
   "outputs": [],
   "source": []
  }
 ],
 "metadata": {
  "kernelspec": {
   "display_name": "Python 3 (ipykernel)",
   "language": "python",
   "name": "python3"
  },
  "language_info": {
   "codemirror_mode": {
    "name": "ipython",
    "version": 3
   },
   "file_extension": ".py",
   "mimetype": "text/x-python",
   "name": "python",
   "nbconvert_exporter": "python",
   "pygments_lexer": "ipython3",
   "version": "3.9.13"
  }
 },
 "nbformat": 4,
 "nbformat_minor": 5
}
