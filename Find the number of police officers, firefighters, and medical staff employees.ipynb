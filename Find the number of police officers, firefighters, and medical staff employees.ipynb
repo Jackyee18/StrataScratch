{
 "cells": [
  {
   "cell_type": "markdown",
   "id": "295635b0",
   "metadata": {},
   "source": [
    "# Find the number of police officers, firefighters, and medical staff employees\n",
    "\n",
    "Find the number of police officers (job title contains substring police), firefighters (job title contains substring fire), and medical staff employees (job title contains substring medical) based on the employee name.\n",
    "Output each job title along with the corresponding number of employees."
   ]
  },
  {
   "cell_type": "code",
   "execution_count": 75,
   "id": "5ce550c6",
   "metadata": {},
   "outputs": [],
   "source": [
    "import pandas as pd\n",
    "import numpy as np\n",
    "q=pd.read_csv('sf_public_salaries.csv')"
   ]
  },
  {
   "cell_type": "code",
   "execution_count": 76,
   "id": "99d39a50",
   "metadata": {},
   "outputs": [
    {
     "data": {
      "text/plain": [
       "False    122\n",
       "True      78\n",
       "Name: jobtitle, dtype: int64"
      ]
     },
     "execution_count": 76,
     "metadata": {},
     "output_type": "execute_result"
    }
   ],
   "source": [
    "q.jobtitle.str.contains('Sergeant|POLICE|Firefighter|Nurse').value_counts()"
   ]
  },
  {
   "cell_type": "code",
   "execution_count": 77,
   "id": "aa6459e9",
   "metadata": {},
   "outputs": [],
   "source": [
    "q=q[q.jobtitle.str.contains('Sergeant|POLICE|Firefighter|Nurse')]"
   ]
  },
  {
   "cell_type": "code",
   "execution_count": 78,
   "id": "f459e8d8",
   "metadata": {},
   "outputs": [],
   "source": [
    "q.groupby('jobtitle').count()['employeename'].reset_index().rename(columns={'employeename':'total employees'})\n",
    "q=q.groupby('jobtitle').count()['employeename'].reset_index().rename(columns={'employeename':'total employees'})"
   ]
  },
  {
   "cell_type": "code",
   "execution_count": 79,
   "id": "01268196",
   "metadata": {},
   "outputs": [
    {
     "data": {
      "text/html": [
       "<div>\n",
       "<style scoped>\n",
       "    .dataframe tbody tr th:only-of-type {\n",
       "        vertical-align: middle;\n",
       "    }\n",
       "\n",
       "    .dataframe tbody tr th {\n",
       "        vertical-align: top;\n",
       "    }\n",
       "\n",
       "    .dataframe thead th {\n",
       "        text-align: right;\n",
       "    }\n",
       "</style>\n",
       "<table border=\"1\" class=\"dataframe\">\n",
       "  <thead>\n",
       "    <tr style=\"text-align: right;\">\n",
       "      <th></th>\n",
       "      <th>jobtitle</th>\n",
       "      <th>total employees</th>\n",
       "    </tr>\n",
       "  </thead>\n",
       "  <tbody>\n",
       "    <tr>\n",
       "      <th>0</th>\n",
       "      <td>CAPTAIN III (POLICE DEPARTMENT)</td>\n",
       "      <td>5</td>\n",
       "    </tr>\n",
       "    <tr>\n",
       "      <th>1</th>\n",
       "      <td>EMT/Paramedic/Firefighter</td>\n",
       "      <td>16</td>\n",
       "    </tr>\n",
       "    <tr>\n",
       "      <th>2</th>\n",
       "      <td>Firefighter</td>\n",
       "      <td>5</td>\n",
       "    </tr>\n",
       "    <tr>\n",
       "      <th>3</th>\n",
       "      <td>Registered Nurse</td>\n",
       "      <td>21</td>\n",
       "    </tr>\n",
       "    <tr>\n",
       "      <th>4</th>\n",
       "      <td>Sergeant 3</td>\n",
       "      <td>8</td>\n",
       "    </tr>\n",
       "    <tr>\n",
       "      <th>5</th>\n",
       "      <td>Special Nurse</td>\n",
       "      <td>23</td>\n",
       "    </tr>\n",
       "  </tbody>\n",
       "</table>\n",
       "</div>"
      ],
      "text/plain": [
       "                          jobtitle  total employees\n",
       "0  CAPTAIN III (POLICE DEPARTMENT)                5\n",
       "1        EMT/Paramedic/Firefighter               16\n",
       "2                      Firefighter                5\n",
       "3                 Registered Nurse               21\n",
       "4                       Sergeant 3                8\n",
       "5                    Special Nurse               23"
      ]
     },
     "execution_count": 79,
     "metadata": {},
     "output_type": "execute_result"
    }
   ],
   "source": [
    "q.iloc"
   ]
  },
  {
   "cell_type": "code",
   "execution_count": 61,
   "id": "c2e46cf4",
   "metadata": {},
   "outputs": [],
   "source": [
    "Firefighter = q.iloc[1,:] + q.iloc[2,:]\n",
    "Firefightter = {'Firefightter':Firefighter.reset_index().iloc[1,1]}"
   ]
  },
  {
   "cell_type": "code",
   "execution_count": 67,
   "id": "8436246c",
   "metadata": {},
   "outputs": [],
   "source": [
    "Police = q.iloc[0,:] + q.iloc[4,:]\n",
    "Police = {'Police':Police.reset_index().iloc[1,1]}"
   ]
  },
  {
   "cell_type": "code",
   "execution_count": 62,
   "id": "97dd9d01",
   "metadata": {},
   "outputs": [],
   "source": [
    "Nurse = q.iloc[3,:] + q.iloc[5,:]\n",
    "Nurse = {'Nurse':Nurse.reset_index().iloc[1,1]}"
   ]
  },
  {
   "cell_type": "code",
   "execution_count": 66,
   "id": "ae16376d",
   "metadata": {},
   "outputs": [
    {
     "data": {
      "text/html": [
       "<div>\n",
       "<style scoped>\n",
       "    .dataframe tbody tr th:only-of-type {\n",
       "        vertical-align: middle;\n",
       "    }\n",
       "\n",
       "    .dataframe tbody tr th {\n",
       "        vertical-align: top;\n",
       "    }\n",
       "\n",
       "    .dataframe thead th {\n",
       "        text-align: right;\n",
       "    }\n",
       "</style>\n",
       "<table border=\"1\" class=\"dataframe\">\n",
       "  <thead>\n",
       "    <tr style=\"text-align: right;\">\n",
       "      <th></th>\n",
       "      <th>index</th>\n",
       "      <th>0</th>\n",
       "    </tr>\n",
       "  </thead>\n",
       "  <tbody>\n",
       "    <tr>\n",
       "      <th>0</th>\n",
       "      <td>jobtitle</td>\n",
       "      <td>EMT/Paramedic/FirefighterFirefighter</td>\n",
       "    </tr>\n",
       "    <tr>\n",
       "      <th>1</th>\n",
       "      <td>total employees</td>\n",
       "      <td>21</td>\n",
       "    </tr>\n",
       "  </tbody>\n",
       "</table>\n",
       "</div>"
      ],
      "text/plain": [
       "             index                                     0\n",
       "0         jobtitle  EMT/Paramedic/FirefighterFirefighter\n",
       "1  total employees                                    21"
      ]
     },
     "execution_count": 66,
     "metadata": {},
     "output_type": "execute_result"
    }
   ],
   "source": [
    "Firefighter = q.iloc[1,:] + q.iloc[2,:]\n",
    "Firefighter.reset_index()"
   ]
  },
  {
   "cell_type": "code",
   "execution_count": 69,
   "id": "38d05733",
   "metadata": {},
   "outputs": [],
   "source": [
    "Firefighter = q.iloc[1,:] + q.iloc[2,:]\n",
    "Police = q.iloc[0,:] + q.iloc[4,:]\n",
    "Nurse = q.iloc[3,:] + q.iloc[5,:]"
   ]
  },
  {
   "cell_type": "code",
   "execution_count": 71,
   "id": "7e999242",
   "metadata": {},
   "outputs": [],
   "source": [
    "Firefighter = Firefighter.reset_index()\n",
    "Police = Police.reset_index()\n",
    "Nurse = Nurse.reset_index()"
   ]
  },
  {
   "cell_type": "code",
   "execution_count": 73,
   "id": "011d3151",
   "metadata": {},
   "outputs": [],
   "source": [
    "result = [Firefighter,Police,Nurse]"
   ]
  },
  {
   "cell_type": "code",
   "execution_count": 74,
   "id": "bb7cc47b",
   "metadata": {},
   "outputs": [
    {
     "data": {
      "text/html": [
       "<div>\n",
       "<style scoped>\n",
       "    .dataframe tbody tr th:only-of-type {\n",
       "        vertical-align: middle;\n",
       "    }\n",
       "\n",
       "    .dataframe tbody tr th {\n",
       "        vertical-align: top;\n",
       "    }\n",
       "\n",
       "    .dataframe thead th {\n",
       "        text-align: right;\n",
       "    }\n",
       "</style>\n",
       "<table border=\"1\" class=\"dataframe\">\n",
       "  <thead>\n",
       "    <tr style=\"text-align: right;\">\n",
       "      <th></th>\n",
       "      <th>index</th>\n",
       "      <th>0</th>\n",
       "    </tr>\n",
       "  </thead>\n",
       "  <tbody>\n",
       "    <tr>\n",
       "      <th>0</th>\n",
       "      <td>jobtitle</td>\n",
       "      <td>EMT/Paramedic/FirefighterFirefighter</td>\n",
       "    </tr>\n",
       "    <tr>\n",
       "      <th>1</th>\n",
       "      <td>total employees</td>\n",
       "      <td>21</td>\n",
       "    </tr>\n",
       "    <tr>\n",
       "      <th>0</th>\n",
       "      <td>jobtitle</td>\n",
       "      <td>CAPTAIN III (POLICE DEPARTMENT)Sergeant 3</td>\n",
       "    </tr>\n",
       "    <tr>\n",
       "      <th>1</th>\n",
       "      <td>total employees</td>\n",
       "      <td>13</td>\n",
       "    </tr>\n",
       "    <tr>\n",
       "      <th>0</th>\n",
       "      <td>jobtitle</td>\n",
       "      <td>Registered NurseSpecial Nurse</td>\n",
       "    </tr>\n",
       "    <tr>\n",
       "      <th>1</th>\n",
       "      <td>total employees</td>\n",
       "      <td>44</td>\n",
       "    </tr>\n",
       "  </tbody>\n",
       "</table>\n",
       "</div>"
      ],
      "text/plain": [
       "             index                                          0\n",
       "0         jobtitle       EMT/Paramedic/FirefighterFirefighter\n",
       "1  total employees                                         21\n",
       "0         jobtitle  CAPTAIN III (POLICE DEPARTMENT)Sergeant 3\n",
       "1  total employees                                         13\n",
       "0         jobtitle              Registered NurseSpecial Nurse\n",
       "1  total employees                                         44"
      ]
     },
     "execution_count": 74,
     "metadata": {},
     "output_type": "execute_result"
    }
   ],
   "source": [
    "pd.concat(result)"
   ]
  },
  {
   "cell_type": "code",
   "execution_count": 55,
   "id": "f24043fa",
   "metadata": {},
   "outputs": [],
   "source": [
    "\n"
   ]
  }
 ],
 "metadata": {
  "kernelspec": {
   "display_name": "Python 3 (ipykernel)",
   "language": "python",
   "name": "python3"
  },
  "language_info": {
   "codemirror_mode": {
    "name": "ipython",
    "version": 3
   },
   "file_extension": ".py",
   "mimetype": "text/x-python",
   "name": "python",
   "nbconvert_exporter": "python",
   "pygments_lexer": "ipython3",
   "version": "3.9.13"
  }
 },
 "nbformat": 4,
 "nbformat_minor": 5
}
