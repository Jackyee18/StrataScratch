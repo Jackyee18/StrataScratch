{
 "cells": [
  {
   "cell_type": "markdown",
   "id": "ccd6f71f",
   "metadata": {},
   "source": [
    "# Extremely Late Delivery\n",
    "A delivery is flagged as extremely late if its actual delivery time is more than 20 minutes after its predicted delivery time. In each month, what percentage of placed orders were extremely late?\n",
    "Output the month in a YYYY-MM format and the corresponding proportion of the extremely late orders as the percentage of all orders placed in this month."
   ]
  },
  {
   "cell_type": "code",
   "execution_count": 1,
   "id": "6435285a",
   "metadata": {},
   "outputs": [],
   "source": [
    "import pandas as pd\n",
    "import numpy as np\n",
    "q = pd.read_csv('delivery_orders.csv')"
   ]
  },
  {
   "cell_type": "code",
   "execution_count": 2,
   "id": "cfb68fdd",
   "metadata": {
    "scrolled": true
   },
   "outputs": [],
   "source": [
    "# change multiple columns into datetime\n",
    "q.iloc[:,1:4].apply(pd.to_datetime)\n",
    "q.iloc[:,1:4]=q.iloc[:,1:4].apply(pd.to_datetime)"
   ]
  },
  {
   "cell_type": "code",
   "execution_count": 3,
   "id": "7bcebfd9",
   "metadata": {},
   "outputs": [],
   "source": [
    "# change the datatype into datetime with format 'YYYY-MM'\n",
    "q['month']=q['order_placed_time'].dt.strftime('%Y-%m')"
   ]
  },
  {
   "cell_type": "code",
   "execution_count": 4,
   "id": "29b88d99",
   "metadata": {
    "scrolled": true
   },
   "outputs": [],
   "source": [
    "# Calculate the difference between two dates in minutes\n",
    "(q['actual_delivery_time']-q['predicted_delivery_time']).dt.total_seconds()/60\n",
    "q['comparing']=(q['actual_delivery_time']-q['predicted_delivery_time']).dt.total_seconds()/60"
   ]
  },
  {
   "cell_type": "code",
   "execution_count": 5,
   "id": "d0a5e8e1",
   "metadata": {},
   "outputs": [],
   "source": [
    "# filter with the codition later than 20 minutes\n",
    "x=q[q['comparing']>20].groupby('month')['delivery_id'].count().reset_index().rename(columns={'delivery_id':'total_late_deliveries'})"
   ]
  },
  {
   "cell_type": "code",
   "execution_count": 6,
   "id": "48ebce8a",
   "metadata": {},
   "outputs": [],
   "source": [
    "y=q.groupby('month')['delivery_id'].count().reset_index().rename(columns={'delivery_id':'total_deliveries'})"
   ]
  },
  {
   "cell_type": "code",
   "execution_count": 7,
   "id": "78842bbd",
   "metadata": {},
   "outputs": [],
   "source": [
    "z=pd.merge(x,y)"
   ]
  },
  {
   "cell_type": "code",
   "execution_count": 8,
   "id": "54dabb3b",
   "metadata": {},
   "outputs": [],
   "source": [
    "z['percentage']=(z['total_late_deliveries']/z['total_deliveries']*100).round()"
   ]
  },
  {
   "cell_type": "code",
   "execution_count": 9,
   "id": "06b5ebba",
   "metadata": {},
   "outputs": [
    {
     "data": {
      "text/html": [
       "<div>\n",
       "<style scoped>\n",
       "    .dataframe tbody tr th:only-of-type {\n",
       "        vertical-align: middle;\n",
       "    }\n",
       "\n",
       "    .dataframe tbody tr th {\n",
       "        vertical-align: top;\n",
       "    }\n",
       "\n",
       "    .dataframe thead th {\n",
       "        text-align: right;\n",
       "    }\n",
       "</style>\n",
       "<table border=\"1\" class=\"dataframe\">\n",
       "  <thead>\n",
       "    <tr style=\"text-align: right;\">\n",
       "      <th></th>\n",
       "      <th>month</th>\n",
       "      <th>total_late_deliveries</th>\n",
       "      <th>total_deliveries</th>\n",
       "      <th>percentage</th>\n",
       "    </tr>\n",
       "  </thead>\n",
       "  <tbody>\n",
       "    <tr>\n",
       "      <th>0</th>\n",
       "      <td>2021-11</td>\n",
       "      <td>4</td>\n",
       "      <td>13</td>\n",
       "      <td>31.0</td>\n",
       "    </tr>\n",
       "    <tr>\n",
       "      <th>1</th>\n",
       "      <td>2021-12</td>\n",
       "      <td>2</td>\n",
       "      <td>16</td>\n",
       "      <td>12.0</td>\n",
       "    </tr>\n",
       "    <tr>\n",
       "      <th>2</th>\n",
       "      <td>2022-01</td>\n",
       "      <td>4</td>\n",
       "      <td>11</td>\n",
       "      <td>36.0</td>\n",
       "    </tr>\n",
       "    <tr>\n",
       "      <th>3</th>\n",
       "      <td>2022-02</td>\n",
       "      <td>1</td>\n",
       "      <td>10</td>\n",
       "      <td>10.0</td>\n",
       "    </tr>\n",
       "  </tbody>\n",
       "</table>\n",
       "</div>"
      ],
      "text/plain": [
       "     month  total_late_deliveries  total_deliveries  percentage\n",
       "0  2021-11                      4                13        31.0\n",
       "1  2021-12                      2                16        12.0\n",
       "2  2022-01                      4                11        36.0\n",
       "3  2022-02                      1                10        10.0"
      ]
     },
     "execution_count": 9,
     "metadata": {},
     "output_type": "execute_result"
    }
   ],
   "source": [
    "z"
   ]
  }
 ],
 "metadata": {
  "kernelspec": {
   "display_name": "Python 3 (ipykernel)",
   "language": "python",
   "name": "python3"
  },
  "language_info": {
   "codemirror_mode": {
    "name": "ipython",
    "version": 3
   },
   "file_extension": ".py",
   "mimetype": "text/x-python",
   "name": "python",
   "nbconvert_exporter": "python",
   "pygments_lexer": "ipython3",
   "version": "3.9.13"
  }
 },
 "nbformat": 4,
 "nbformat_minor": 5
}
