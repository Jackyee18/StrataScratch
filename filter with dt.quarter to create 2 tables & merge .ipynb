{
 "cells": [
  {
   "cell_type": "markdown",
   "id": "f69b2ba9",
   "metadata": {},
   "source": [
    "# Sales Growth per Territory\n",
    "\n",
    "\n",
    "Write a query to return Territory and corresponding Sales Growth. Compare growth between periods Q4-2021 vs Q3-2021.\n",
    "\n",
    "If Territory (say T123) has Sales worth 100USD in Q3-2021 and Sales worth 110USD in Q4-2021, then the Sales Growth will be 10% [i.e. = ((110 - 100)/100) * 100]\n",
    "\n",
    "Output the ID of the Territory and the Sales Growth. Only output these territories that had any sales in both quarters."
   ]
  },
  {
   "cell_type": "code",
   "execution_count": 1,
   "id": "df76bdd5",
   "metadata": {},
   "outputs": [],
   "source": [
    "import pandas as pd\n",
    "sales=pd.read_csv('fct_customer_sales.csv')\n",
    "cus_ter=pd.read_csv('map_customer_territory.csv')"
   ]
  },
  {
   "cell_type": "code",
   "execution_count": 4,
   "id": "dde398fe",
   "metadata": {},
   "outputs": [],
   "source": [
    "sales.order_date=pd.to_datetime(sales.order_date)"
   ]
  },
  {
   "cell_type": "code",
   "execution_count": 20,
   "id": "a21059a6",
   "metadata": {},
   "outputs": [],
   "source": [
    "q3_sales=sales[(sales.order_date.dt.quarter==3)&(sales.order_date.dt.year==2021)].merge(cus_ter,left_on='ust_id',right_on='cust_id')"
   ]
  },
  {
   "cell_type": "code",
   "execution_count": 22,
   "id": "09191559",
   "metadata": {},
   "outputs": [],
   "source": [
    "q4_sales=sales[(sales.order_date.dt.quarter==4)&(sales.order_date.dt.year==2021)].merge(cus_ter,left_on='ust_id',right_on='cust_id')"
   ]
  },
  {
   "cell_type": "code",
   "execution_count": 32,
   "id": "650a9503",
   "metadata": {},
   "outputs": [],
   "source": [
    "total_sales_per_territory_q3=q3_sales.groupby('territory_id').order_value.sum().reset_index(name='total_sales_q3')"
   ]
  },
  {
   "cell_type": "code",
   "execution_count": 33,
   "id": "e3ed0db8",
   "metadata": {},
   "outputs": [],
   "source": [
    "total_sales_per_territory_q4=q4_sales.groupby('territory_id').order_value.sum().reset_index(name='total_sales_q4')"
   ]
  },
  {
   "cell_type": "code",
   "execution_count": 36,
   "id": "8e71a27c",
   "metadata": {},
   "outputs": [
    {
     "data": {
      "text/html": [
       "<div>\n",
       "<style scoped>\n",
       "    .dataframe tbody tr th:only-of-type {\n",
       "        vertical-align: middle;\n",
       "    }\n",
       "\n",
       "    .dataframe tbody tr th {\n",
       "        vertical-align: top;\n",
       "    }\n",
       "\n",
       "    .dataframe thead th {\n",
       "        text-align: right;\n",
       "    }\n",
       "</style>\n",
       "<table border=\"1\" class=\"dataframe\">\n",
       "  <thead>\n",
       "    <tr style=\"text-align: right;\">\n",
       "      <th></th>\n",
       "      <th>territory_id</th>\n",
       "      <th>total_sales_q3</th>\n",
       "      <th>total_sales_q4</th>\n",
       "    </tr>\n",
       "  </thead>\n",
       "  <tbody>\n",
       "    <tr>\n",
       "      <th>0</th>\n",
       "      <td>T1</td>\n",
       "      <td>4819</td>\n",
       "      <td>5033</td>\n",
       "    </tr>\n",
       "    <tr>\n",
       "      <th>1</th>\n",
       "      <td>T3</td>\n",
       "      <td>3659</td>\n",
       "      <td>6115</td>\n",
       "    </tr>\n",
       "    <tr>\n",
       "      <th>2</th>\n",
       "      <td>T4</td>\n",
       "      <td>9363</td>\n",
       "      <td>10988</td>\n",
       "    </tr>\n",
       "    <tr>\n",
       "      <th>3</th>\n",
       "      <td>T5</td>\n",
       "      <td>5670</td>\n",
       "      <td>6014</td>\n",
       "    </tr>\n",
       "  </tbody>\n",
       "</table>\n",
       "</div>"
      ],
      "text/plain": [
       "  territory_id  total_sales_q3  total_sales_q4\n",
       "0           T1            4819            5033\n",
       "1           T3            3659            6115\n",
       "2           T4            9363           10988\n",
       "3           T5            5670            6014"
      ]
     },
     "execution_count": 36,
     "metadata": {},
     "output_type": "execute_result"
    }
   ],
   "source": [
    "q=total_sales_per_territory_q3.merge(total_sales_per_territory_q4)\n",
    "q"
   ]
  },
  {
   "cell_type": "code",
   "execution_count": 40,
   "id": "3ae96f57",
   "metadata": {},
   "outputs": [],
   "source": [
    "q['sales_growth']=((q.total_sales_q4-q.total_sales_q3)/q.total_sales_q3*100).round()"
   ]
  },
  {
   "cell_type": "code",
   "execution_count": 45,
   "id": "ecf2ce16",
   "metadata": {},
   "outputs": [],
   "source": [
    "q['sales_growth']=q.sales_growth.astype(str)+'%'"
   ]
  },
  {
   "cell_type": "code",
   "execution_count": 47,
   "id": "7a1e3237",
   "metadata": {},
   "outputs": [
    {
     "data": {
      "text/html": [
       "<div>\n",
       "<style scoped>\n",
       "    .dataframe tbody tr th:only-of-type {\n",
       "        vertical-align: middle;\n",
       "    }\n",
       "\n",
       "    .dataframe tbody tr th {\n",
       "        vertical-align: top;\n",
       "    }\n",
       "\n",
       "    .dataframe thead th {\n",
       "        text-align: right;\n",
       "    }\n",
       "</style>\n",
       "<table border=\"1\" class=\"dataframe\">\n",
       "  <thead>\n",
       "    <tr style=\"text-align: right;\">\n",
       "      <th></th>\n",
       "      <th>territory_id</th>\n",
       "      <th>total_sales_q3</th>\n",
       "      <th>total_sales_q4</th>\n",
       "      <th>sales_growth</th>\n",
       "    </tr>\n",
       "  </thead>\n",
       "  <tbody>\n",
       "    <tr>\n",
       "      <th>0</th>\n",
       "      <td>T1</td>\n",
       "      <td>4819</td>\n",
       "      <td>5033</td>\n",
       "      <td>4.0%</td>\n",
       "    </tr>\n",
       "    <tr>\n",
       "      <th>1</th>\n",
       "      <td>T3</td>\n",
       "      <td>3659</td>\n",
       "      <td>6115</td>\n",
       "      <td>67.0%</td>\n",
       "    </tr>\n",
       "    <tr>\n",
       "      <th>2</th>\n",
       "      <td>T4</td>\n",
       "      <td>9363</td>\n",
       "      <td>10988</td>\n",
       "      <td>17.0%</td>\n",
       "    </tr>\n",
       "    <tr>\n",
       "      <th>3</th>\n",
       "      <td>T5</td>\n",
       "      <td>5670</td>\n",
       "      <td>6014</td>\n",
       "      <td>6.0%</td>\n",
       "    </tr>\n",
       "  </tbody>\n",
       "</table>\n",
       "</div>"
      ],
      "text/plain": [
       "  territory_id  total_sales_q3  total_sales_q4 sales_growth\n",
       "0           T1            4819            5033         4.0%\n",
       "1           T3            3659            6115        67.0%\n",
       "2           T4            9363           10988        17.0%\n",
       "3           T5            5670            6014         6.0%"
      ]
     },
     "execution_count": 47,
     "metadata": {},
     "output_type": "execute_result"
    }
   ],
   "source": [
    "q"
   ]
  }
 ],
 "metadata": {
  "kernelspec": {
   "display_name": "Python 3 (ipykernel)",
   "language": "python",
   "name": "python3"
  },
  "language_info": {
   "codemirror_mode": {
    "name": "ipython",
    "version": 3
   },
   "file_extension": ".py",
   "mimetype": "text/x-python",
   "name": "python",
   "nbconvert_exporter": "python",
   "pygments_lexer": "ipython3",
   "version": "3.9.13"
  }
 },
 "nbformat": 4,
 "nbformat_minor": 5
}
