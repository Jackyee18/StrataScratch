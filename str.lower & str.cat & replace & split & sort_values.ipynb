{
 "cells": [
  {
   "cell_type": "markdown",
   "id": "936bb8ad",
   "metadata": {},
   "source": [
    "# File Contents Shuffle\n",
    "\n",
    "\n",
    "Sort the words alphabetically in 'final.txt' and make a new file named 'wacky.txt'. Output the file contents in one column and the filename 'wacky.txt' in another column. Lowercase all the words. To simplify the question, there is no need to remove the punctuation marks.\n",
    "\n",
    "\n",
    "\n",
    "If coding in python, the file contents should be contained in a list."
   ]
  },
  {
   "cell_type": "code",
   "execution_count": 29,
   "id": "b97c74c0",
   "metadata": {},
   "outputs": [
    {
     "data": {
      "text/html": [
       "<div>\n",
       "<style scoped>\n",
       "    .dataframe tbody tr th:only-of-type {\n",
       "        vertical-align: middle;\n",
       "    }\n",
       "\n",
       "    .dataframe tbody tr th {\n",
       "        vertical-align: top;\n",
       "    }\n",
       "\n",
       "    .dataframe thead th {\n",
       "        text-align: right;\n",
       "    }\n",
       "</style>\n",
       "<table border=\"1\" class=\"dataframe\">\n",
       "  <thead>\n",
       "    <tr style=\"text-align: right;\">\n",
       "      <th></th>\n",
       "      <th>filename</th>\n",
       "      <th>contents</th>\n",
       "    </tr>\n",
       "  </thead>\n",
       "  <tbody>\n",
       "    <tr>\n",
       "      <th>0</th>\n",
       "      <td>draft1.txt</td>\n",
       "      <td>The stock exchange predicts a bull market whic...</td>\n",
       "    </tr>\n",
       "    <tr>\n",
       "      <th>1</th>\n",
       "      <td>draft2.txt</td>\n",
       "      <td>The stock exchange predicts a bull market whic...</td>\n",
       "    </tr>\n",
       "    <tr>\n",
       "      <th>2</th>\n",
       "      <td>final.txt</td>\n",
       "      <td>The stock exchange predicts a bull market whic...</td>\n",
       "    </tr>\n",
       "  </tbody>\n",
       "</table>\n",
       "</div>"
      ],
      "text/plain": [
       "     filename                                           contents\n",
       "0  draft1.txt  The stock exchange predicts a bull market whic...\n",
       "1  draft2.txt  The stock exchange predicts a bull market whic...\n",
       "2   final.txt  The stock exchange predicts a bull market whic..."
      ]
     },
     "execution_count": 29,
     "metadata": {},
     "output_type": "execute_result"
    }
   ],
   "source": [
    "import pandas as pd\n",
    "import numpy as np\n",
    "q=pd.read_csv('google_file_store.csv')\n",
    "q"
   ]
  },
  {
   "cell_type": "code",
   "execution_count": 30,
   "id": "a0f70660",
   "metadata": {},
   "outputs": [],
   "source": [
    "# lower all the character\n",
    "q.contents = q.contents.str.lower()"
   ]
  },
  {
   "cell_type": "code",
   "execution_count": 31,
   "id": "9b403b25",
   "metadata": {},
   "outputs": [
    {
     "data": {
      "text/plain": [
       "'the stock exchange predicts a bull market which would make many investors happy. the stock exchange predicts a bull market which would make many investors happy, but analysts warn of possibility of too much optimism and that in fact we are awaiting a bear market. the stock exchange predicts a bull market which would make many investors happy, but analysts warn of possibility of too much optimism and that in fact we are awaiting a bear market. as always predicting the future market is an uncertain game and all investors should follow their instincts and best practices.'"
      ]
     },
     "execution_count": 31,
     "metadata": {},
     "output_type": "execute_result"
    }
   ],
   "source": [
    "# concatenate all content into a cell\n",
    "content=q.contents.str.cat(sep=' ')\n",
    "content"
   ]
  },
  {
   "cell_type": "code",
   "execution_count": 34,
   "id": "67450f62",
   "metadata": {},
   "outputs": [
    {
     "data": {
      "text/plain": [
       "'the stock exchange predicts a bull market which would make many investors happy the stock exchange predicts a bull market which would make many investors happy, but analysts warn of possibility of too much optimism and that in fact we are awaiting a bear market the stock exchange predicts a bull market which would make many investors happy, but analysts warn of possibility of too much optimism and that in fact we are awaiting a bear market as always predicting the future market is an uncertain game and all investors should follow their instincts and best practices'"
      ]
     },
     "execution_count": 34,
     "metadata": {},
     "output_type": "execute_result"
    }
   ],
   "source": [
    "# remove dot points '.' \n",
    "content=content.replace('.','')\n",
    "content"
   ]
  },
  {
   "cell_type": "code",
   "execution_count": 36,
   "id": "8aa6762e",
   "metadata": {},
   "outputs": [
    {
     "data": {
      "text/plain": [
       "'the stock exchange predicts a bull market which would make many investors happy the stock exchange predicts a bull market which would make many investors happy but analysts warn of possibility of too much optimism and that in fact we are awaiting a bear market the stock exchange predicts a bull market which would make many investors happy but analysts warn of possibility of too much optimism and that in fact we are awaiting a bear market as always predicting the future market is an uncertain game and all investors should follow their instincts and best practices'"
      ]
     },
     "execution_count": 36,
     "metadata": {},
     "output_type": "execute_result"
    }
   ],
   "source": [
    "# remove comma ',' \n",
    "content=content.replace(',','')\n",
    "content"
   ]
  },
  {
   "cell_type": "code",
   "execution_count": 40,
   "id": "dd8a9ded",
   "metadata": {
    "scrolled": true
   },
   "outputs": [
    {
     "data": {
      "text/plain": [
       "['the',\n",
       " 'stock',\n",
       " 'exchange',\n",
       " 'predicts',\n",
       " 'a',\n",
       " 'bull',\n",
       " 'market',\n",
       " 'which',\n",
       " 'would',\n",
       " 'make',\n",
       " 'many',\n",
       " 'investors',\n",
       " 'happy',\n",
       " 'the',\n",
       " 'stock',\n",
       " 'exchange',\n",
       " 'predicts',\n",
       " 'a',\n",
       " 'bull',\n",
       " 'market',\n",
       " 'which',\n",
       " 'would',\n",
       " 'make',\n",
       " 'many',\n",
       " 'investors',\n",
       " 'happy',\n",
       " 'but',\n",
       " 'analysts',\n",
       " 'warn',\n",
       " 'of',\n",
       " 'possibility',\n",
       " 'of',\n",
       " 'too',\n",
       " 'much',\n",
       " 'optimism',\n",
       " 'and',\n",
       " 'that',\n",
       " 'in',\n",
       " 'fact',\n",
       " 'we',\n",
       " 'are',\n",
       " 'awaiting',\n",
       " 'a',\n",
       " 'bear',\n",
       " 'market',\n",
       " 'the',\n",
       " 'stock',\n",
       " 'exchange',\n",
       " 'predicts',\n",
       " 'a',\n",
       " 'bull',\n",
       " 'market',\n",
       " 'which',\n",
       " 'would',\n",
       " 'make',\n",
       " 'many',\n",
       " 'investors',\n",
       " 'happy',\n",
       " 'but',\n",
       " 'analysts',\n",
       " 'warn',\n",
       " 'of',\n",
       " 'possibility',\n",
       " 'of',\n",
       " 'too',\n",
       " 'much',\n",
       " 'optimism',\n",
       " 'and',\n",
       " 'that',\n",
       " 'in',\n",
       " 'fact',\n",
       " 'we',\n",
       " 'are',\n",
       " 'awaiting',\n",
       " 'a',\n",
       " 'bear',\n",
       " 'market',\n",
       " 'as',\n",
       " 'always',\n",
       " 'predicting',\n",
       " 'the',\n",
       " 'future',\n",
       " 'market',\n",
       " 'is',\n",
       " 'an',\n",
       " 'uncertain',\n",
       " 'game',\n",
       " 'and',\n",
       " 'all',\n",
       " 'investors',\n",
       " 'should',\n",
       " 'follow',\n",
       " 'their',\n",
       " 'instincts',\n",
       " 'and',\n",
       " 'best',\n",
       " 'practices']"
      ]
     },
     "execution_count": 40,
     "metadata": {},
     "output_type": "execute_result"
    }
   ],
   "source": [
    "# split all word with space ' '\n",
    "content.split() "
   ]
  },
  {
   "cell_type": "code",
   "execution_count": 38,
   "id": "2fab86f5",
   "metadata": {
    "scrolled": true
   },
   "outputs": [
    {
     "data": {
      "text/html": [
       "<div>\n",
       "<style scoped>\n",
       "    .dataframe tbody tr th:only-of-type {\n",
       "        vertical-align: middle;\n",
       "    }\n",
       "\n",
       "    .dataframe tbody tr th {\n",
       "        vertical-align: top;\n",
       "    }\n",
       "\n",
       "    .dataframe thead th {\n",
       "        text-align: right;\n",
       "    }\n",
       "</style>\n",
       "<table border=\"1\" class=\"dataframe\">\n",
       "  <thead>\n",
       "    <tr style=\"text-align: right;\">\n",
       "      <th></th>\n",
       "      <th>0</th>\n",
       "    </tr>\n",
       "  </thead>\n",
       "  <tbody>\n",
       "    <tr>\n",
       "      <th>17</th>\n",
       "      <td>a</td>\n",
       "    </tr>\n",
       "    <tr>\n",
       "      <th>4</th>\n",
       "      <td>a</td>\n",
       "    </tr>\n",
       "    <tr>\n",
       "      <th>74</th>\n",
       "      <td>a</td>\n",
       "    </tr>\n",
       "    <tr>\n",
       "      <th>42</th>\n",
       "      <td>a</td>\n",
       "    </tr>\n",
       "    <tr>\n",
       "      <th>49</th>\n",
       "      <td>a</td>\n",
       "    </tr>\n",
       "    <tr>\n",
       "      <th>...</th>\n",
       "      <td>...</td>\n",
       "    </tr>\n",
       "    <tr>\n",
       "      <th>7</th>\n",
       "      <td>which</td>\n",
       "    </tr>\n",
       "    <tr>\n",
       "      <th>52</th>\n",
       "      <td>which</td>\n",
       "    </tr>\n",
       "    <tr>\n",
       "      <th>53</th>\n",
       "      <td>would</td>\n",
       "    </tr>\n",
       "    <tr>\n",
       "      <th>8</th>\n",
       "      <td>would</td>\n",
       "    </tr>\n",
       "    <tr>\n",
       "      <th>21</th>\n",
       "      <td>would</td>\n",
       "    </tr>\n",
       "  </tbody>\n",
       "</table>\n",
       "<p>97 rows × 1 columns</p>\n",
       "</div>"
      ],
      "text/plain": [
       "        0\n",
       "17      a\n",
       "4       a\n",
       "74      a\n",
       "42      a\n",
       "49      a\n",
       "..    ...\n",
       "7   which\n",
       "52  which\n",
       "53  would\n",
       "8   would\n",
       "21  would\n",
       "\n",
       "[97 rows x 1 columns]"
      ]
     },
     "execution_count": 38,
     "metadata": {},
     "output_type": "execute_result"
    }
   ],
   "source": [
    "# Sort the words alphabetically in\n",
    "q=pd.DataFrame(content.split()).sort_values(0)\n",
    "q"
   ]
  },
  {
   "cell_type": "code",
   "execution_count": 39,
   "id": "d4d8716a",
   "metadata": {},
   "outputs": [],
   "source": [
    "# save into another files\n",
    "q.to_csv('wacky.csv')"
   ]
  }
 ],
 "metadata": {
  "kernelspec": {
   "display_name": "Python 3 (ipykernel)",
   "language": "python",
   "name": "python3"
  },
  "language_info": {
   "codemirror_mode": {
    "name": "ipython",
    "version": 3
   },
   "file_extension": ".py",
   "mimetype": "text/x-python",
   "name": "python",
   "nbconvert_exporter": "python",
   "pygments_lexer": "ipython3",
   "version": "3.9.13"
  }
 },
 "nbformat": 4,
 "nbformat_minor": 5
}
