{
 "cells": [
  {
   "cell_type": "markdown",
   "id": "f36c1eac",
   "metadata": {},
   "source": [
    "# Year Over Year Churn\n",
    "\n",
    "Find how the number of drivers that have churned changed in each year compared to the previous one. Output the year (specifically, you can use the year the driver left Lyft) along with the corresponding number of churns in that year, the number of churns in the previous year, and an indication on whether the number has been increased (output the value 'increase'), decreased (output the value 'decrease') or stayed the same (output the value 'no change')."
   ]
  },
  {
   "cell_type": "code",
   "execution_count": 97,
   "id": "8f9289a0",
   "metadata": {},
   "outputs": [],
   "source": [
    "import pandas as pd\n",
    "import numpy as np\n",
    "q=pd.read_csv('lyft_drivers.csv')\n",
    "pd.set_option('display.max_row',500)"
   ]
  },
  {
   "cell_type": "code",
   "execution_count": 75,
   "id": "0021d30a",
   "metadata": {},
   "outputs": [],
   "source": [
    "# change columns into datetime\n",
    "q[['start_date','end_date']]=q[['start_date','end_date']].apply(pd.to_datetime)"
   ]
  },
  {
   "cell_type": "code",
   "execution_count": 76,
   "id": "4d1c4b31",
   "metadata": {},
   "outputs": [],
   "source": [
    "# add a 'year' column equal to the year of start date\n",
    "q['year']=q.start_date.dt.year"
   ]
  },
  {
   "cell_type": "code",
   "execution_count": 77,
   "id": "1d48c012",
   "metadata": {},
   "outputs": [],
   "source": [
    "# replace values which contains end_date values with the year of end_date columns\n",
    "q.loc[q.end_date.notnull(),'year']=q.loc[q.end_date.notnull(),'end_date'].dt.year"
   ]
  },
  {
   "cell_type": "code",
   "execution_count": 78,
   "id": "8c19cbdb",
   "metadata": {},
   "outputs": [],
   "source": [
    "# find the total salary per years\n",
    "q=q.groupby('year').yearly_salary.sum().reset_index(name='total_salary')"
   ]
  },
  {
   "cell_type": "code",
   "execution_count": 85,
   "id": "3fd3471a",
   "metadata": {},
   "outputs": [],
   "source": [
    "# adding a new column\n",
    "q['flag']=None"
   ]
  },
  {
   "cell_type": "code",
   "execution_count": 95,
   "id": "14ce135f",
   "metadata": {},
   "outputs": [],
   "source": [
    "# set values as the 3 coditions below:\n",
    "q.loc[q.total_salary<q.total_salary.shift(),'flag']='decrease'\n",
    "q.loc[q.total_salary>q.total_salary.shift(),'flag']='increase'\n",
    "q.loc[q.total_salary==q.total_salary.shift(),'flag']='stayed'\n"
   ]
  },
  {
   "cell_type": "code",
   "execution_count": 96,
   "id": "137a736b",
   "metadata": {
    "scrolled": true
   },
   "outputs": [
    {
     "data": {
      "text/html": [
       "<div>\n",
       "<style scoped>\n",
       "    .dataframe tbody tr th:only-of-type {\n",
       "        vertical-align: middle;\n",
       "    }\n",
       "\n",
       "    .dataframe tbody tr th {\n",
       "        vertical-align: top;\n",
       "    }\n",
       "\n",
       "    .dataframe thead th {\n",
       "        text-align: right;\n",
       "    }\n",
       "</style>\n",
       "<table border=\"1\" class=\"dataframe\">\n",
       "  <thead>\n",
       "    <tr style=\"text-align: right;\">\n",
       "      <th></th>\n",
       "      <th>year</th>\n",
       "      <th>total_salary</th>\n",
       "      <th>flag</th>\n",
       "    </tr>\n",
       "  </thead>\n",
       "  <tbody>\n",
       "    <tr>\n",
       "      <th>0</th>\n",
       "      <td>2015</td>\n",
       "      <td>670761</td>\n",
       "      <td>None</td>\n",
       "    </tr>\n",
       "    <tr>\n",
       "      <th>1</th>\n",
       "      <td>2016</td>\n",
       "      <td>725620</td>\n",
       "      <td>increase</td>\n",
       "    </tr>\n",
       "    <tr>\n",
       "      <th>2</th>\n",
       "      <td>2017</td>\n",
       "      <td>1386877</td>\n",
       "      <td>increase</td>\n",
       "    </tr>\n",
       "    <tr>\n",
       "      <th>3</th>\n",
       "      <td>2018</td>\n",
       "      <td>2788132</td>\n",
       "      <td>increase</td>\n",
       "    </tr>\n",
       "    <tr>\n",
       "      <th>4</th>\n",
       "      <td>2019</td>\n",
       "      <td>435406</td>\n",
       "      <td>decrease</td>\n",
       "    </tr>\n",
       "  </tbody>\n",
       "</table>\n",
       "</div>"
      ],
      "text/plain": [
       "   year  total_salary      flag\n",
       "0  2015        670761      None\n",
       "1  2016        725620  increase\n",
       "2  2017       1386877  increase\n",
       "3  2018       2788132  increase\n",
       "4  2019        435406  decrease"
      ]
     },
     "execution_count": 96,
     "metadata": {},
     "output_type": "execute_result"
    }
   ],
   "source": [
    "q"
   ]
  },
  {
   "cell_type": "code",
   "execution_count": null,
   "id": "6d94f36c",
   "metadata": {},
   "outputs": [],
   "source": []
  },
  {
   "cell_type": "code",
   "execution_count": null,
   "id": "4704bdee",
   "metadata": {},
   "outputs": [],
   "source": []
  }
 ],
 "metadata": {
  "kernelspec": {
   "display_name": "Python 3 (ipykernel)",
   "language": "python",
   "name": "python3"
  },
  "language_info": {
   "codemirror_mode": {
    "name": "ipython",
    "version": 3
   },
   "file_extension": ".py",
   "mimetype": "text/x-python",
   "name": "python",
   "nbconvert_exporter": "python",
   "pygments_lexer": "ipython3",
   "version": "3.9.13"
  }
 },
 "nbformat": 4,
 "nbformat_minor": 5
}
