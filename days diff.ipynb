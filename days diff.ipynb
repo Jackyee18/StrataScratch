{
 "cells": [
  {
   "cell_type": "markdown",
   "id": "24c66b94",
   "metadata": {},
   "source": [
    "# Most Senior & Junior Employee\n",
    "\n",
    "\n",
    "Write a query to find the number of days between the longest and least tenured employee still working for the company. Your output should include the number of employees with the longest-tenure, the number of employees with the least-tenure, and the number of days between both the longest-tenured and least-tenured hiring dates.\n",
    "\n"
   ]
  },
  {
   "cell_type": "code",
   "execution_count": 3,
   "id": "eae65d2d",
   "metadata": {},
   "outputs": [],
   "source": [
    "import pandas as pd\n",
    "import numpy as np\n",
    "q=pd.read_table('uber_employees.txt')"
   ]
  },
  {
   "cell_type": "code",
   "execution_count": 6,
   "id": "41a9f94c",
   "metadata": {},
   "outputs": [],
   "source": [
    "q[['hire_date','termination_date']]=q[['hire_date','termination_date']].apply(pd.to_datetime)"
   ]
  },
  {
   "cell_type": "code",
   "execution_count": 27,
   "id": "cc4b3b2c",
   "metadata": {},
   "outputs": [],
   "source": [
    "longest_tenured_emp=q[q.termination_date-q.hire_date==(q.termination_date-q.hire_date).max()].id.count()"
   ]
  },
  {
   "cell_type": "code",
   "execution_count": 30,
   "id": "5525cd48",
   "metadata": {},
   "outputs": [],
   "source": [
    "least_tenured_emp=q[q.termination_date-q.hire_date==(q.termination_date-q.hire_date).min()].id.count()"
   ]
  },
  {
   "cell_type": "code",
   "execution_count": 23,
   "id": "e0a49e04",
   "metadata": {},
   "outputs": [],
   "source": [
    "longest_tenured=(q.termination_date-q.hire_date).max()"
   ]
  },
  {
   "cell_type": "code",
   "execution_count": 24,
   "id": "a36920bb",
   "metadata": {},
   "outputs": [],
   "source": [
    "least_tenured=(q.termination_date-q.hire_date).min()"
   ]
  },
  {
   "cell_type": "code",
   "execution_count": 33,
   "id": "cd49857e",
   "metadata": {},
   "outputs": [
    {
     "data": {
      "text/html": [
       "<div>\n",
       "<style scoped>\n",
       "    .dataframe tbody tr th:only-of-type {\n",
       "        vertical-align: middle;\n",
       "    }\n",
       "\n",
       "    .dataframe tbody tr th {\n",
       "        vertical-align: top;\n",
       "    }\n",
       "\n",
       "    .dataframe thead th {\n",
       "        text-align: right;\n",
       "    }\n",
       "</style>\n",
       "<table border=\"1\" class=\"dataframe\">\n",
       "  <thead>\n",
       "    <tr style=\"text-align: right;\">\n",
       "      <th></th>\n",
       "      <th>longest_tenured</th>\n",
       "      <th>longest_tenured_emp</th>\n",
       "      <th>least_tenured</th>\n",
       "      <th>least_tenured_emp</th>\n",
       "      <th>days_diff</th>\n",
       "    </tr>\n",
       "  </thead>\n",
       "  <tbody>\n",
       "    <tr>\n",
       "      <th>0</th>\n",
       "      <td>2980 days</td>\n",
       "      <td>1</td>\n",
       "      <td>101 days</td>\n",
       "      <td>1</td>\n",
       "      <td>2879 days</td>\n",
       "    </tr>\n",
       "  </tbody>\n",
       "</table>\n",
       "</div>"
      ],
      "text/plain": [
       "  longest_tenured  longest_tenured_emp least_tenured  least_tenured_emp  \\\n",
       "0       2980 days                    1      101 days                  1   \n",
       "\n",
       "  days_diff  \n",
       "0 2879 days  "
      ]
     },
     "execution_count": 33,
     "metadata": {},
     "output_type": "execute_result"
    }
   ],
   "source": [
    "pd.DataFrame({'longest_tenured':longest_tenured,'longest_tenured_emp':longest_tenured_emp,'least_tenured':least_tenured,'least_tenured_emp':least_tenured_emp,'days_diff':longest_tenured-least_tenured},index=[0])"
   ]
  },
  {
   "cell_type": "code",
   "execution_count": null,
   "id": "536f7c1c",
   "metadata": {},
   "outputs": [],
   "source": []
  },
  {
   "cell_type": "code",
   "execution_count": null,
   "id": "1e104c68",
   "metadata": {},
   "outputs": [],
   "source": []
  },
  {
   "cell_type": "code",
   "execution_count": null,
   "id": "9d7a44d2",
   "metadata": {},
   "outputs": [],
   "source": []
  },
  {
   "cell_type": "code",
   "execution_count": null,
   "id": "df341590",
   "metadata": {},
   "outputs": [],
   "source": []
  },
  {
   "cell_type": "code",
   "execution_count": null,
   "id": "7f2b6152",
   "metadata": {},
   "outputs": [],
   "source": []
  }
 ],
 "metadata": {
  "kernelspec": {
   "display_name": "Python 3 (ipykernel)",
   "language": "python",
   "name": "python3"
  },
  "language_info": {
   "codemirror_mode": {
    "name": "ipython",
    "version": 3
   },
   "file_extension": ".py",
   "mimetype": "text/x-python",
   "name": "python",
   "nbconvert_exporter": "python",
   "pygments_lexer": "ipython3",
   "version": "3.9.13"
  }
 },
 "nbformat": 4,
 "nbformat_minor": 5
}
