{
 "cells": [
  {
   "cell_type": "markdown",
   "id": "77fdea96",
   "metadata": {},
   "source": [
    "# Find Products\n",
    "\n",
    "\n",
    "Find product ids whose average sales price is at least $3 and that are sold at least 2 times? Output product id and their brand.\n",
    "\n"
   ]
  },
  {
   "cell_type": "code",
   "execution_count": 3,
   "id": "0c99c16d",
   "metadata": {},
   "outputs": [],
   "source": [
    "import pandas as pd\n",
    "p=pd.read_table('facebook_products.txt')"
   ]
  },
  {
   "cell_type": "code",
   "execution_count": 4,
   "id": "aee86f3c",
   "metadata": {},
   "outputs": [],
   "source": [
    "s=pd.read_table('facebook_sales.txt')"
   ]
  },
  {
   "cell_type": "code",
   "execution_count": 7,
   "id": "253feeb6",
   "metadata": {},
   "outputs": [],
   "source": [
    "s.date=pd.to_datetime(s.date)"
   ]
  },
  {
   "cell_type": "code",
   "execution_count": 12,
   "id": "fbff5e3a",
   "metadata": {},
   "outputs": [],
   "source": [
    "# selling time of each product ids\n",
    "ps=s.groupby('product_id').product_id.count().reset_index(name='selling_time')"
   ]
  },
  {
   "cell_type": "code",
   "execution_count": 24,
   "id": "c886f7e8",
   "metadata": {},
   "outputs": [],
   "source": [
    "# average sales price of each product ids\n",
    "ap=s.groupby('product_id').cost_in_dollars.mean().reset_index(name='avg_price')"
   ]
  },
  {
   "cell_type": "code",
   "execution_count": 26,
   "id": "e74d9d50",
   "metadata": {},
   "outputs": [],
   "source": [
    "q=pd.merge(ps,ap)"
   ]
  },
  {
   "cell_type": "code",
   "execution_count": 32,
   "id": "87cf4374",
   "metadata": {},
   "outputs": [
    {
     "data": {
      "text/html": [
       "<div>\n",
       "<style scoped>\n",
       "    .dataframe tbody tr th:only-of-type {\n",
       "        vertical-align: middle;\n",
       "    }\n",
       "\n",
       "    .dataframe tbody tr th {\n",
       "        vertical-align: top;\n",
       "    }\n",
       "\n",
       "    .dataframe thead th {\n",
       "        text-align: right;\n",
       "    }\n",
       "</style>\n",
       "<table border=\"1\" class=\"dataframe\">\n",
       "  <thead>\n",
       "    <tr style=\"text-align: right;\">\n",
       "      <th></th>\n",
       "      <th>product_id</th>\n",
       "      <th>brand_name</th>\n",
       "    </tr>\n",
       "  </thead>\n",
       "  <tbody>\n",
       "    <tr>\n",
       "      <th>0</th>\n",
       "      <td>2</td>\n",
       "      <td>Fort West</td>\n",
       "    </tr>\n",
       "    <tr>\n",
       "      <th>1</th>\n",
       "      <td>3</td>\n",
       "      <td>Fort West</td>\n",
       "    </tr>\n",
       "    <tr>\n",
       "      <th>2</th>\n",
       "      <td>5</td>\n",
       "      <td>Golden</td>\n",
       "    </tr>\n",
       "    <tr>\n",
       "      <th>3</th>\n",
       "      <td>6</td>\n",
       "      <td>Lucky Joe</td>\n",
       "    </tr>\n",
       "  </tbody>\n",
       "</table>\n",
       "</div>"
      ],
      "text/plain": [
       "   product_id brand_name\n",
       "0           2  Fort West\n",
       "1           3  Fort West\n",
       "2           5     Golden\n",
       "3           6  Lucky Joe"
      ]
     },
     "execution_count": 32,
     "metadata": {},
     "output_type": "execute_result"
    }
   ],
   "source": [
    "q[(q.avg_price>=3)&(q.selling_time>=2)].merge(p)[['product_id','brand_name']]"
   ]
  },
  {
   "cell_type": "code",
   "execution_count": null,
   "id": "99141ef2",
   "metadata": {},
   "outputs": [],
   "source": []
  },
  {
   "cell_type": "code",
   "execution_count": null,
   "id": "64e547be",
   "metadata": {},
   "outputs": [],
   "source": []
  }
 ],
 "metadata": {
  "kernelspec": {
   "display_name": "Python 3 (ipykernel)",
   "language": "python",
   "name": "python3"
  },
  "language_info": {
   "codemirror_mode": {
    "name": "ipython",
    "version": 3
   },
   "file_extension": ".py",
   "mimetype": "text/x-python",
   "name": "python",
   "nbconvert_exporter": "python",
   "pygments_lexer": "ipython3",
   "version": "3.9.13"
  }
 },
 "nbformat": 4,
 "nbformat_minor": 5
}
